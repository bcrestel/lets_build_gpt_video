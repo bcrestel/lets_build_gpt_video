{
 "cells": [
  {
   "cell_type": "markdown",
   "id": "9f9e71d8-1c0f-4301-8d76-82450b9f5cb5",
   "metadata": {},
   "source": [
    "# Preamble"
   ]
  },
  {
   "cell_type": "code",
   "execution_count": 1,
   "id": "bf7ff2fa",
   "metadata": {
    "tags": []
   },
   "outputs": [
    {
     "data": {
      "text/plain": [
       "['../',\n",
       " '/home/experiments',\n",
       " '/opt/conda/lib/python310.zip',\n",
       " '/opt/conda/lib/python3.10',\n",
       " '/opt/conda/lib/python3.10/lib-dynload',\n",
       " '',\n",
       " '/opt/conda/lib/python3.10/site-packages',\n",
       " '/opt/conda/lib/python3.10/site-packages/PyYAML-6.0-py3.10-linux-x86_64.egg']"
      ]
     },
     "execution_count": 1,
     "metadata": {},
     "output_type": "execute_result"
    }
   ],
   "source": [
    "import sys\n",
    "sys.path.insert(0, \"../\")\n",
    "sys.path"
   ]
  },
  {
   "cell_type": "code",
   "execution_count": 2,
   "id": "42ec13cf",
   "metadata": {
    "tags": []
   },
   "outputs": [],
   "source": [
    "import torch\n",
    "from torch.nn import functional\n",
    "\n",
    "from src.text_processor import TextProcessor\n",
    "from src.v2 import BiGram\n",
    "from src.utils.get_device import get_device"
   ]
  },
  {
   "cell_type": "code",
   "execution_count": 3,
   "id": "818dca6f-71fd-4eda-b3c8-355aba997427",
   "metadata": {
    "tags": []
   },
   "outputs": [
    {
     "data": {
      "text/plain": [
       "'cpu'"
      ]
     },
     "execution_count": 3,
     "metadata": {},
     "output_type": "execute_result"
    }
   ],
   "source": [
    "mydevice = get_device()\n",
    "mydevice"
   ]
  },
  {
   "cell_type": "code",
   "execution_count": 4,
   "id": "8f4569d3",
   "metadata": {
    "tags": []
   },
   "outputs": [],
   "source": [
    "mytext = TextProcessor(\"shakespeare.txt\")"
   ]
  },
  {
   "cell_type": "code",
   "execution_count": 5,
   "id": "f0a955f6",
   "metadata": {
    "tags": []
   },
   "outputs": [],
   "source": [
    "model = BiGram(vocab_size=mytext.vocab_size, dim_token_embedding=32, block_size = 8)"
   ]
  },
  {
   "cell_type": "code",
   "execution_count": 6,
   "id": "8e8c5bdb-683e-454a-a328-db0352f092fb",
   "metadata": {
    "tags": []
   },
   "outputs": [
    {
     "data": {
      "text/plain": [
       "BiGram(\n",
       "  (embedding): Embedding(65, 32)\n",
       "  (map_token_embedding_to_token): Linear(in_features=32, out_features=65, bias=True)\n",
       "  (positional_embedding): Embedding(8, 32)\n",
       ")"
      ]
     },
     "execution_count": 6,
     "metadata": {},
     "output_type": "execute_result"
    }
   ],
   "source": [
    "model.to(mydevice)"
   ]
  },
  {
   "cell_type": "markdown",
   "id": "387c25b2",
   "metadata": {},
   "source": [
    "# Text"
   ]
  },
  {
   "cell_type": "code",
   "execution_count": 4,
   "id": "c9dc2db1",
   "metadata": {},
   "outputs": [
    {
     "data": {
      "text/plain": [
       "65"
      ]
     },
     "execution_count": 4,
     "metadata": {},
     "output_type": "execute_result"
    }
   ],
   "source": [
    "mytext.vocab_size"
   ]
  },
  {
   "cell_type": "code",
   "execution_count": 5,
   "id": "469c14fb",
   "metadata": {
    "scrolled": true
   },
   "outputs": [
    {
     "data": {
      "text/plain": [
       "['\\n',\n",
       " ' ',\n",
       " '!',\n",
       " '$',\n",
       " '&',\n",
       " \"'\",\n",
       " ',',\n",
       " '-',\n",
       " '.',\n",
       " '3',\n",
       " ':',\n",
       " ';',\n",
       " '?',\n",
       " 'A',\n",
       " 'B',\n",
       " 'C',\n",
       " 'D',\n",
       " 'E',\n",
       " 'F',\n",
       " 'G',\n",
       " 'H',\n",
       " 'I',\n",
       " 'J',\n",
       " 'K',\n",
       " 'L',\n",
       " 'M',\n",
       " 'N',\n",
       " 'O',\n",
       " 'P',\n",
       " 'Q',\n",
       " 'R',\n",
       " 'S',\n",
       " 'T',\n",
       " 'U',\n",
       " 'V',\n",
       " 'W',\n",
       " 'X',\n",
       " 'Y',\n",
       " 'Z',\n",
       " 'a',\n",
       " 'b',\n",
       " 'c',\n",
       " 'd',\n",
       " 'e',\n",
       " 'f',\n",
       " 'g',\n",
       " 'h',\n",
       " 'i',\n",
       " 'j',\n",
       " 'k',\n",
       " 'l',\n",
       " 'm',\n",
       " 'n',\n",
       " 'o',\n",
       " 'p',\n",
       " 'q',\n",
       " 'r',\n",
       " 's',\n",
       " 't',\n",
       " 'u',\n",
       " 'v',\n",
       " 'w',\n",
       " 'x',\n",
       " 'y',\n",
       " 'z']"
      ]
     },
     "execution_count": 5,
     "metadata": {},
     "output_type": "execute_result"
    }
   ],
   "source": [
    "mytext.all_chars"
   ]
  },
  {
   "cell_type": "code",
   "execution_count": 6,
   "id": "e272950b",
   "metadata": {},
   "outputs": [
    {
     "data": {
      "text/plain": [
       "[46, 43, 50, 50, 53, 3]"
      ]
     },
     "execution_count": 6,
     "metadata": {},
     "output_type": "execute_result"
    }
   ],
   "source": [
    "mytext.convert_string2integer(\"hello$\")"
   ]
  },
  {
   "cell_type": "code",
   "execution_count": 7,
   "id": "41628c78",
   "metadata": {},
   "outputs": [
    {
     "data": {
      "text/plain": [
       "'?eI\\np'"
      ]
     },
     "execution_count": 7,
     "metadata": {},
     "output_type": "execute_result"
    }
   ],
   "source": [
    "mytext.convert_integer2string([12,43,21,0,54])"
   ]
  },
  {
   "cell_type": "code",
   "execution_count": null,
   "id": "ac1bdbe4",
   "metadata": {},
   "outputs": [],
   "source": [
    "mytext.text"
   ]
  },
  {
   "cell_type": "code",
   "execution_count": 17,
   "id": "2c198456",
   "metadata": {},
   "outputs": [
    {
     "data": {
      "text/plain": [
       "tensor([18, 47, 56,  ..., 45,  8,  0])"
      ]
     },
     "execution_count": 17,
     "metadata": {},
     "output_type": "execute_result"
    }
   ],
   "source": [
    "mytext.data"
   ]
  },
  {
   "cell_type": "code",
   "execution_count": 18,
   "id": "99e805f1",
   "metadata": {},
   "outputs": [
    {
     "data": {
      "text/plain": [
       "1115394"
      ]
     },
     "execution_count": 18,
     "metadata": {},
     "output_type": "execute_result"
    }
   ],
   "source": [
    "len(mytext.data)"
   ]
  },
  {
   "cell_type": "code",
   "execution_count": 19,
   "id": "692a9bc4",
   "metadata": {},
   "outputs": [
    {
     "data": {
      "text/plain": [
       "tensor([12,  0,  0,  ..., 45,  8,  0])"
      ]
     },
     "execution_count": 19,
     "metadata": {},
     "output_type": "execute_result"
    }
   ],
   "source": [
    "mytext.data_val"
   ]
  },
  {
   "cell_type": "code",
   "execution_count": 7,
   "id": "b969f55e",
   "metadata": {
    "tags": []
   },
   "outputs": [
    {
     "name": "stdout",
     "output_type": "stream",
     "text": [
      "torch.Size([32, 8]) torch.Size([32, 8])\n"
     ]
    }
   ],
   "source": [
    "x, y = mytext.get_batch(batch_size=32, block_size=8)\n",
    "print(x.shape, y.shape)"
   ]
  },
  {
   "cell_type": "code",
   "execution_count": 21,
   "id": "beac8662",
   "metadata": {},
   "outputs": [
    {
     "name": "stdout",
     "output_type": "stream",
     "text": [
      "0\n",
      "2\n",
      "4\n",
      "6\n",
      "8\n"
     ]
    }
   ],
   "source": [
    "for ii in range(0, 10, 2):\n",
    "    print(ii)"
   ]
  },
  {
   "cell_type": "code",
   "execution_count": 22,
   "id": "a7507948",
   "metadata": {},
   "outputs": [
    {
     "data": {
      "text/plain": [
       "1003854"
      ]
     },
     "execution_count": 22,
     "metadata": {},
     "output_type": "execute_result"
    }
   ],
   "source": [
    "len(mytext.data_train)"
   ]
  },
  {
   "cell_type": "code",
   "execution_count": 23,
   "id": "c57f4617",
   "metadata": {},
   "outputs": [
    {
     "data": {
      "text/plain": [
       "tensor([64, 43, 52, 10,  0])"
      ]
     },
     "execution_count": 23,
     "metadata": {},
     "output_type": "execute_result"
    }
   ],
   "source": [
    "mytext.data_train[10:15]"
   ]
  },
  {
   "cell_type": "code",
   "execution_count": 13,
   "id": "41d16694-6c36-4864-8bf7-181915f65e93",
   "metadata": {
    "tags": []
   },
   "outputs": [],
   "source": [
    "text_it = mytext.iterator_all(batch_size=32, split=\"train\")"
   ]
  },
  {
   "cell_type": "code",
   "execution_count": 15,
   "id": "9242131e-2486-4556-bab2-f9dc2f4578cc",
   "metadata": {
    "tags": []
   },
   "outputs": [
    {
     "name": "stdout",
     "output_type": "stream",
     "text": [
      "torch.Size([32]) torch.Size([32])\n"
     ]
    }
   ],
   "source": [
    "for ii in text_it:\n",
    "    x, y = ii\n",
    "    print(x.shape, y.shape)\n",
    "    break"
   ]
  },
  {
   "cell_type": "markdown",
   "id": "33abb487",
   "metadata": {},
   "source": [
    "# Bigram model"
   ]
  },
  {
   "cell_type": "markdown",
   "id": "934bdbd9-4b95-43ca-90aa-049bdc89d9f2",
   "metadata": {},
   "source": [
    "## Verify loss in the case batch_size=1, block_size=1"
   ]
  },
  {
   "cell_type": "code",
   "execution_count": 7,
   "id": "a0ab8e28-b0e5-4389-b7b2-d8b3be2d284d",
   "metadata": {
    "tags": []
   },
   "outputs": [
    {
     "name": "stdout",
     "output_type": "stream",
     "text": [
      "torch.Size([1, 1]) torch.Size([1, 1])\n"
     ]
    }
   ],
   "source": [
    "x, y = mytext.get_batch(batch_size=1, block_size=1)\n",
    "print(x.shape, y.shape)"
   ]
  },
  {
   "cell_type": "code",
   "execution_count": 8,
   "id": "c9e4fbe6",
   "metadata": {
    "tags": []
   },
   "outputs": [
    {
     "data": {
      "text/plain": [
       "tensor(5.2137, grad_fn=<NllLossBackward0>)"
      ]
     },
     "execution_count": 8,
     "metadata": {},
     "output_type": "execute_result"
    }
   ],
   "source": [
    "model.loss(model(x), y)"
   ]
  },
  {
   "cell_type": "code",
   "execution_count": 9,
   "id": "f96d5656",
   "metadata": {
    "tags": []
   },
   "outputs": [
    {
     "data": {
      "text/plain": [
       "tensor([[5.2137]], grad_fn=<NegBackward0>)"
      ]
     },
     "execution_count": 9,
     "metadata": {},
     "output_type": "execute_result"
    }
   ],
   "source": [
    "-(model(x).exp()/model(x).exp().sum())[0, 0, y].log()"
   ]
  },
  {
   "cell_type": "markdown",
   "id": "fa0f273a-008c-4d5e-bd17-44fc10dd1edb",
   "metadata": {},
   "source": [
    "## Train model"
   ]
  },
  {
   "cell_type": "code",
   "execution_count": 10,
   "id": "120e0a6b",
   "metadata": {
    "tags": []
   },
   "outputs": [
    {
     "ename": "ValueError",
     "evalue": "not enough values to unpack (expected 2, got 1)",
     "output_type": "error",
     "traceback": [
      "\u001b[0;31m---------------------------------------------------------------------------\u001b[0m",
      "\u001b[0;31mValueError\u001b[0m                                Traceback (most recent call last)",
      "Cell \u001b[0;32mIn[10], line 1\u001b[0m\n\u001b[0;32m----> 1\u001b[0m \u001b[43mmodel\u001b[49m\u001b[38;5;241;43m.\u001b[39;49m\u001b[43mtrain\u001b[49m\u001b[43m(\u001b[49m\n\u001b[1;32m      2\u001b[0m \u001b[43m    \u001b[49m\u001b[43mtext\u001b[49m\u001b[38;5;241;43m=\u001b[39;49m\u001b[43mmytext\u001b[49m\u001b[43m,\u001b[49m\n\u001b[1;32m      3\u001b[0m \u001b[43m    \u001b[49m\u001b[43mnb_epochs\u001b[49m\u001b[38;5;241;43m=\u001b[39;49m\u001b[38;5;241;43m5\u001b[39;49m\u001b[43m,\u001b[49m\u001b[43m \u001b[49m\u001b[38;5;66;43;03m# 3000\u001b[39;49;00m\n\u001b[1;32m      4\u001b[0m \u001b[43m    \u001b[49m\u001b[43mbatch_size\u001b[49m\u001b[38;5;241;43m=\u001b[39;49m\u001b[38;5;241;43m32\u001b[39;49m\u001b[43m,\u001b[49m\n\u001b[1;32m      5\u001b[0m \u001b[43m    \u001b[49m\u001b[43mblock_size\u001b[49m\u001b[38;5;241;43m=\u001b[39;49m\u001b[38;5;241;43m8\u001b[39;49m\u001b[43m,\u001b[49m\n\u001b[1;32m      6\u001b[0m \u001b[43m    \u001b[49m\u001b[43mlearning_rate\u001b[49m\u001b[38;5;241;43m=\u001b[39;49m\u001b[38;5;241;43m1e-2\u001b[39;49m\u001b[43m,\u001b[49m\n\u001b[1;32m      7\u001b[0m \u001b[43m    \u001b[49m\u001b[43meval_interval\u001b[49m\u001b[43m \u001b[49m\u001b[38;5;241;43m=\u001b[39;49m\u001b[43m \u001b[49m\u001b[38;5;241;43m1\u001b[39;49m\u001b[43m,\u001b[49m\u001b[43m \u001b[49m\u001b[38;5;66;43;03m# 100\u001b[39;49;00m\n\u001b[1;32m      8\u001b[0m \u001b[43m)\u001b[49m\n",
      "File \u001b[0;32m/home/experiments/../src/v2.py:90\u001b[0m, in \u001b[0;36mBiGram.train\u001b[0;34m(self, nb_epochs, text, batch_size, block_size, learning_rate, eval_interval)\u001b[0m\n\u001b[1;32m     85\u001b[0m \u001b[38;5;28;01mfor\u001b[39;00m split \u001b[38;5;129;01min\u001b[39;00m [\u001b[38;5;124m\"\u001b[39m\u001b[38;5;124mtrain\u001b[39m\u001b[38;5;124m\"\u001b[39m, \u001b[38;5;124m\"\u001b[39m\u001b[38;5;124mval\u001b[39m\u001b[38;5;124m\"\u001b[39m]:\n\u001b[1;32m     86\u001b[0m     text_iterator \u001b[38;5;241m=\u001b[39m text\u001b[38;5;241m.\u001b[39miterator_all(\n\u001b[1;32m     87\u001b[0m         batch_size\u001b[38;5;241m=\u001b[39mbatch_size,\n\u001b[1;32m     88\u001b[0m         split\u001b[38;5;241m=\u001b[39msplit,\n\u001b[1;32m     89\u001b[0m     )\n\u001b[0;32m---> 90\u001b[0m     _all_losses \u001b[38;5;241m=\u001b[39m [\n\u001b[1;32m     91\u001b[0m         \u001b[38;5;28mself\u001b[39m\u001b[38;5;241m.\u001b[39mloss(\u001b[38;5;28mself\u001b[39m\u001b[38;5;241m.\u001b[39mforward(bb[\u001b[38;5;241m0\u001b[39m]), bb[\u001b[38;5;241m1\u001b[39m])\u001b[38;5;241m.\u001b[39mitem()\n\u001b[1;32m     92\u001b[0m         \u001b[38;5;28;01mfor\u001b[39;00m bb \u001b[38;5;129;01min\u001b[39;00m text_iterator\n\u001b[1;32m     93\u001b[0m     ]\n\u001b[1;32m     94\u001b[0m     loss_split[split] \u001b[38;5;241m=\u001b[39m \u001b[38;5;28msum\u001b[39m(_all_losses)\n\u001b[1;32m     95\u001b[0m \u001b[38;5;28mprint\u001b[39m(\n\u001b[1;32m     96\u001b[0m     \u001b[38;5;124mf\u001b[39m\u001b[38;5;124m\"\u001b[39m\u001b[38;5;124mEpoch \u001b[39m\u001b[38;5;132;01m{\u001b[39;00mep\u001b[38;5;132;01m}\u001b[39;00m\u001b[38;5;124m: train_loss = \u001b[39m\u001b[38;5;132;01m{\u001b[39;00mloss_split[\u001b[38;5;124m'\u001b[39m\u001b[38;5;124mtrain\u001b[39m\u001b[38;5;124m'\u001b[39m]\u001b[38;5;132;01m}\u001b[39;00m\u001b[38;5;124m, eval_loss = \u001b[39m\u001b[38;5;132;01m{\u001b[39;00mloss_split[\u001b[38;5;124m'\u001b[39m\u001b[38;5;124mval\u001b[39m\u001b[38;5;124m'\u001b[39m]\u001b[38;5;132;01m}\u001b[39;00m\u001b[38;5;124m\"\u001b[39m\n\u001b[1;32m     97\u001b[0m )\n",
      "File \u001b[0;32m/home/experiments/../src/v2.py:91\u001b[0m, in \u001b[0;36m<listcomp>\u001b[0;34m(.0)\u001b[0m\n\u001b[1;32m     85\u001b[0m \u001b[38;5;28;01mfor\u001b[39;00m split \u001b[38;5;129;01min\u001b[39;00m [\u001b[38;5;124m\"\u001b[39m\u001b[38;5;124mtrain\u001b[39m\u001b[38;5;124m\"\u001b[39m, \u001b[38;5;124m\"\u001b[39m\u001b[38;5;124mval\u001b[39m\u001b[38;5;124m\"\u001b[39m]:\n\u001b[1;32m     86\u001b[0m     text_iterator \u001b[38;5;241m=\u001b[39m text\u001b[38;5;241m.\u001b[39miterator_all(\n\u001b[1;32m     87\u001b[0m         batch_size\u001b[38;5;241m=\u001b[39mbatch_size,\n\u001b[1;32m     88\u001b[0m         split\u001b[38;5;241m=\u001b[39msplit,\n\u001b[1;32m     89\u001b[0m     )\n\u001b[1;32m     90\u001b[0m     _all_losses \u001b[38;5;241m=\u001b[39m [\n\u001b[0;32m---> 91\u001b[0m         \u001b[38;5;28mself\u001b[39m\u001b[38;5;241m.\u001b[39mloss(\u001b[38;5;28;43mself\u001b[39;49m\u001b[38;5;241;43m.\u001b[39;49m\u001b[43mforward\u001b[49m\u001b[43m(\u001b[49m\u001b[43mbb\u001b[49m\u001b[43m[\u001b[49m\u001b[38;5;241;43m0\u001b[39;49m\u001b[43m]\u001b[49m\u001b[43m)\u001b[49m, bb[\u001b[38;5;241m1\u001b[39m])\u001b[38;5;241m.\u001b[39mitem()\n\u001b[1;32m     92\u001b[0m         \u001b[38;5;28;01mfor\u001b[39;00m bb \u001b[38;5;129;01min\u001b[39;00m text_iterator\n\u001b[1;32m     93\u001b[0m     ]\n\u001b[1;32m     94\u001b[0m     loss_split[split] \u001b[38;5;241m=\u001b[39m \u001b[38;5;28msum\u001b[39m(_all_losses)\n\u001b[1;32m     95\u001b[0m \u001b[38;5;28mprint\u001b[39m(\n\u001b[1;32m     96\u001b[0m     \u001b[38;5;124mf\u001b[39m\u001b[38;5;124m\"\u001b[39m\u001b[38;5;124mEpoch \u001b[39m\u001b[38;5;132;01m{\u001b[39;00mep\u001b[38;5;132;01m}\u001b[39;00m\u001b[38;5;124m: train_loss = \u001b[39m\u001b[38;5;132;01m{\u001b[39;00mloss_split[\u001b[38;5;124m'\u001b[39m\u001b[38;5;124mtrain\u001b[39m\u001b[38;5;124m'\u001b[39m]\u001b[38;5;132;01m}\u001b[39;00m\u001b[38;5;124m, eval_loss = \u001b[39m\u001b[38;5;132;01m{\u001b[39;00mloss_split[\u001b[38;5;124m'\u001b[39m\u001b[38;5;124mval\u001b[39m\u001b[38;5;124m'\u001b[39m]\u001b[38;5;132;01m}\u001b[39;00m\u001b[38;5;124m\"\u001b[39m\n\u001b[1;32m     97\u001b[0m )\n",
      "File \u001b[0;32m/home/experiments/../src/v2.py:37\u001b[0m, in \u001b[0;36mBiGram.forward\u001b[0;34m(self, token_idx)\u001b[0m\n\u001b[1;32m     29\u001b[0m \u001b[38;5;28;01mdef\u001b[39;00m \u001b[38;5;21mforward\u001b[39m(\u001b[38;5;28mself\u001b[39m, token_idx: torch\u001b[38;5;241m.\u001b[39mTensor):\n\u001b[1;32m     30\u001b[0m \u001b[38;5;250m    \u001b[39m\u001b[38;5;124;03m\"\"\"Forward pass\u001b[39;00m\n\u001b[1;32m     31\u001b[0m \n\u001b[1;32m     32\u001b[0m \u001b[38;5;124;03m    Args:\u001b[39;00m\n\u001b[0;32m   (...)\u001b[0m\n\u001b[1;32m     35\u001b[0m \u001b[38;5;124;03m            block_size = T in original code\u001b[39;00m\n\u001b[1;32m     36\u001b[0m \u001b[38;5;124;03m    \"\"\"\u001b[39;00m\n\u001b[0;32m---> 37\u001b[0m     _, block_size \u001b[38;5;241m=\u001b[39m token_idx\u001b[38;5;241m.\u001b[39mshape\n\u001b[1;32m     38\u001b[0m     pos_input \u001b[38;5;241m=\u001b[39m torch\u001b[38;5;241m.\u001b[39marange(block_size, device\u001b[38;5;241m=\u001b[39m\u001b[38;5;28mself\u001b[39m\u001b[38;5;241m.\u001b[39mdevice)\n\u001b[1;32m     39\u001b[0m     positional_embeddings \u001b[38;5;241m=\u001b[39m \u001b[38;5;28mself\u001b[39m\u001b[38;5;241m.\u001b[39membedding(pos_input) \u001b[38;5;66;03m# shape (block_size, self.dim_token_embedding)\u001b[39;00m\n",
      "\u001b[0;31mValueError\u001b[0m: not enough values to unpack (expected 2, got 1)"
     ]
    }
   ],
   "source": [
    "model.train(\n",
    "    text=mytext,\n",
    "    nb_epochs=5, # 3000\n",
    "    batch_size=32,\n",
    "    block_size=8,\n",
    "    learning_rate=1e-2,\n",
    "    eval_interval = 1, # 100\n",
    ")"
   ]
  },
  {
   "cell_type": "code",
   "execution_count": 6,
   "id": "e3af88d0",
   "metadata": {},
   "outputs": [
    {
     "name": "stderr",
     "output_type": "stream",
     "text": [
      "/workspaces/lets_build_gpt_video/experiments/../src/bigram.py:27: UserWarning: Implicit dimension choice for softmax has been deprecated. Change the call to include dim=X as an argument.\n",
      "  probs = functional.softmax(logits)\n"
     ]
    },
    {
     "data": {
      "text/plain": [
       "tensor([18])"
      ]
     },
     "execution_count": 6,
     "metadata": {},
     "output_type": "execute_result"
    }
   ],
   "source": [
    "model.inference(torch.tensor([0]))"
   ]
  },
  {
   "cell_type": "code",
   "execution_count": 10,
   "id": "32f4bd45",
   "metadata": {},
   "outputs": [
    {
     "name": "stdout",
     "output_type": "stream",
     "text": [
      "\n",
      "ARDWh y an: ir aurt, d s es ES: y,\n",
      "pitharapalloul INE: Wh fof mils sttar: blalackicher thivexpth s avan tr I o wen athare\n",
      "\n",
      "A:\n",
      "By sld he rn.\n",
      "GUCEOfut th n.\n",
      "Cos jurrme urd.\n",
      "HEToven,\n",
      "DUCHein t whastr o,\n",
      "GESHERENou he falos\n",
      "Whay he, Su fath! when PEd:\n",
      "I's out honfrot brif a whesstis hirteid s Tht s, Bes thamagorouthonorter cef, matsu,\n",
      "\n",
      "Me f h shastyof tot,\n",
      "IV:\n",
      "Ofond t rghalle? f t tive ste llu o aicr tt ly, d Ay, towakist toy hinghee mesothet h wnol s Heaclerimerethistle suny,\n",
      "IZAnd inovestre, aly. the.\n",
      "\n",
      "Coueimosem:\n",
      "To IURUThatimyour, he is issemato hthoith.\n",
      "Whone grube\n",
      "cond t y VONENoo:\n",
      "Ask,\n",
      "Nodns hir, othe te onu cos y wh KELUENUS IUCHonoryovillearoufat!'llinom,\n",
      "\n",
      "TUCAur.\n",
      "AR:\n",
      "YO: se t Ancks; by ayomanl faket he's yon mam sheais,-g; w, t! w-n, ishaye.\n",
      "AROMyokitors whind h cer n at gr h tl.\n",
      "\n",
      "TENVI quewighaveaca IG OFachilioodusp S:\n",
      "TUCOUELAlld nch wo be dan, trde. t ghererabur ttowhid?\n",
      "A:\n",
      "RY asell!\n",
      "T: thepr; ceers l oss gord igan ee an s t ard ts o te angr anesieshilesthate s thlllat omu! d\n"
     ]
    }
   ],
   "source": [
    "print(mytext.convert_integer2string(model.generate(1000, idx=torch.tensor([0]))))"
   ]
  },
  {
   "cell_type": "code",
   "execution_count": 19,
   "id": "75ded1ea",
   "metadata": {
    "tags": []
   },
   "outputs": [
    {
     "data": {
      "text/plain": [
       "tensor([0, 1, 2, 3, 4, 5, 6, 7, 8, 9])"
      ]
     },
     "execution_count": 19,
     "metadata": {},
     "output_type": "execute_result"
    }
   ],
   "source": [
    "x = torch.arange(10)\n",
    "x"
   ]
  },
  {
   "cell_type": "code",
   "execution_count": 20,
   "id": "0212af24-b13e-4c1c-b719-3ecf181d1022",
   "metadata": {
    "tags": []
   },
   "outputs": [],
   "source": [
    "emb = torch.nn.Embedding(10, 25)"
   ]
  },
  {
   "cell_type": "code",
   "execution_count": 22,
   "id": "b4964f57-9053-41ff-aa43-2c738e13c1ff",
   "metadata": {
    "tags": []
   },
   "outputs": [
    {
     "data": {
      "text/plain": [
       "torch.Size([10, 25])"
      ]
     },
     "execution_count": 22,
     "metadata": {},
     "output_type": "execute_result"
    }
   ],
   "source": [
    "emb(x).shape"
   ]
  },
  {
   "cell_type": "code",
   "execution_count": 25,
   "id": "7fdbc829-8862-4ddd-84e7-4fc36e853a69",
   "metadata": {
    "tags": []
   },
   "outputs": [
    {
     "data": {
      "text/plain": [
       "tensor([[[-1.5364e+00, -1.2186e+00,  2.7570e-01,  ...,  1.6501e+00,\n",
       "          -2.1694e-01, -1.6701e-01],\n",
       "         [-4.9344e-01, -1.5413e-01, -7.2470e-01,  ..., -2.0718e+00,\n",
       "          -2.8463e+00, -3.2761e-01],\n",
       "         [-7.5956e-01, -8.9918e-01,  8.9934e-01,  ..., -1.1107e+00,\n",
       "           1.8045e+00, -1.7571e+00],\n",
       "         ...,\n",
       "         [ 1.3996e+00, -1.7052e+00, -1.1690e+00,  ..., -1.0472e-01,\n",
       "          -1.4806e+00,  2.6321e+00],\n",
       "         [-2.7363e+00, -7.0958e-01,  1.4169e+00,  ...,  2.4372e+00,\n",
       "           1.8087e+00,  1.9558e-01],\n",
       "         [-1.1852e+00,  7.1566e-01, -2.4017e-01,  ...,  8.6689e-01,\n",
       "           6.6140e-01, -6.6396e-01]],\n",
       "\n",
       "        [[ 1.2090e+00, -2.3015e+00, -1.6565e+00,  ...,  1.0998e+00,\n",
       "          -8.3176e-01, -1.3810e-02],\n",
       "         [-2.6938e-01, -1.0450e+00, -2.6316e+00,  ...,  1.8314e+00,\n",
       "           3.6601e-01,  1.3801e+00],\n",
       "         [-9.6815e-01,  1.3468e+00, -5.0207e-01,  ...,  3.1944e+00,\n",
       "           7.0683e-01, -2.4175e+00],\n",
       "         ...,\n",
       "         [-1.1289e+00, -1.4550e+00, -1.1198e+00,  ...,  1.6637e+00,\n",
       "          -3.2787e-01,  1.4619e+00],\n",
       "         [-4.4917e+00,  2.0962e+00, -9.0915e-02,  ...,  5.1300e-01,\n",
       "          -1.1487e+00, -1.5094e+00],\n",
       "         [-7.4183e-03,  1.2748e+00,  5.2140e-01,  ...,  1.8490e+00,\n",
       "          -2.1159e+00,  4.5111e-01]],\n",
       "\n",
       "        [[-1.8307e+00, -2.4419e+00,  9.0967e-01,  ...,  1.6305e-01,\n",
       "          -1.9143e-01,  2.1208e+00],\n",
       "         [ 6.1389e-02, -5.6062e-01, -1.5201e+00,  ...,  1.2382e+00,\n",
       "          -1.7848e+00,  2.4950e-01],\n",
       "         [-3.8114e+00, -9.9090e-01, -1.2921e-01,  ..., -2.5843e-01,\n",
       "          -7.8581e-01, -8.5937e-01],\n",
       "         ...,\n",
       "         [ 3.5865e-01, -7.4187e-01,  9.0201e-01,  ...,  8.5128e-01,\n",
       "          -1.6157e-01,  1.2032e+00],\n",
       "         [-4.2783e+00, -1.7347e+00, -1.5371e-01,  ..., -1.8930e+00,\n",
       "           1.5306e-01, -2.4270e+00],\n",
       "         [ 9.9932e-01,  6.4414e-01,  3.8986e-03,  ...,  4.7528e-01,\n",
       "          -3.0075e-01,  1.1443e+00]],\n",
       "\n",
       "        ...,\n",
       "\n",
       "        [[-1.0692e+00, -1.6649e+00, -2.4019e+00,  ..., -2.1162e-01,\n",
       "          -5.5423e-01,  9.8983e-01],\n",
       "         [-2.2222e+00,  6.5200e-01, -2.4558e+00,  ..., -2.6581e-01,\n",
       "          -1.1565e+00, -4.2028e-02],\n",
       "         [-2.3733e+00, -2.1494e+00, -1.0051e+00,  ...,  1.9721e+00,\n",
       "          -2.6572e-01, -1.5486e+00],\n",
       "         ...,\n",
       "         [ 7.2679e-03, -2.3893e+00, -1.0101e-01,  ..., -5.0531e-01,\n",
       "           1.9684e-01,  1.6774e+00],\n",
       "         [-4.9806e+00, -7.3883e-01,  2.0590e-01,  ...,  1.4616e+00,\n",
       "           8.4912e-02, -2.8599e+00],\n",
       "         [ 2.2884e-03,  5.0079e-01, -5.7912e-01,  ...,  7.5787e-01,\n",
       "          -1.9831e+00,  8.8264e-01]],\n",
       "\n",
       "        [[-2.2854e+00, -3.3778e+00,  1.4565e-01,  ..., -8.6605e-01,\n",
       "           3.2037e-01,  4.1367e-01],\n",
       "         [-3.3920e-01,  3.0770e+00, -5.7165e-01,  ...,  1.4991e+00,\n",
       "          -1.4129e+00, -6.7744e-01],\n",
       "         [-1.2550e+00, -7.1888e-01, -3.6403e-01,  ...,  1.4825e+00,\n",
       "           2.5832e-01, -2.0079e+00],\n",
       "         ...,\n",
       "         [ 3.9183e-01, -7.7338e-01,  5.7445e-01,  ..., -8.2641e-01,\n",
       "           1.0664e-01,  7.0622e-01],\n",
       "         [-2.7781e+00,  3.0369e-01,  1.2651e+00,  ...,  2.0262e+00,\n",
       "          -5.8420e-01, -2.9504e+00],\n",
       "         [-1.2616e+00,  8.5977e-01,  9.5070e-01,  ...,  1.6087e+00,\n",
       "          -8.5770e-01,  1.7135e+00]],\n",
       "\n",
       "        [[-1.4259e-03, -2.7925e+00, -2.2380e+00,  ..., -3.3225e-02,\n",
       "          -6.7680e-01, -2.4638e+00],\n",
       "         [-3.5715e-01,  2.4641e-01, -1.2094e+00,  ...,  7.8338e-01,\n",
       "          -1.5572e+00, -1.0955e+00],\n",
       "         [-1.2048e+00, -7.0598e-01,  7.8319e-01,  ...,  5.3226e-01,\n",
       "           8.4322e-01, -1.1516e+00],\n",
       "         ...,\n",
       "         [ 5.5060e-01,  8.6214e-01, -2.2870e-01,  ..., -5.5610e-01,\n",
       "           3.7164e-01,  1.4834e+00],\n",
       "         [-3.0443e+00, -9.4189e-01,  1.9947e+00,  ...,  4.7874e-01,\n",
       "          -9.2465e-01, -2.2687e+00],\n",
       "         [ 6.8617e-01,  5.3829e-02,  2.1224e-01,  ...,  1.6186e+00,\n",
       "          -1.3999e+00,  3.3830e-01]]], grad_fn=<AddBackward0>)"
      ]
     },
     "execution_count": 25,
     "metadata": {},
     "output_type": "execute_result"
    }
   ],
   "source": [
    "torch.randn(32, 10, 25) + emb(x)"
   ]
  },
  {
   "cell_type": "code",
   "execution_count": null,
   "id": "778f2db2-5801-4242-9cdb-8a821f595437",
   "metadata": {},
   "outputs": [],
   "source": []
  }
 ],
 "metadata": {
  "kernelspec": {
   "display_name": "Python 3 (ipykernel)",
   "language": "python",
   "name": "python3"
  },
  "language_info": {
   "codemirror_mode": {
    "name": "ipython",
    "version": 3
   },
   "file_extension": ".py",
   "mimetype": "text/x-python",
   "name": "python",
   "nbconvert_exporter": "python",
   "pygments_lexer": "ipython3",
   "version": "3.10.8"
  },
  "vscode": {
   "interpreter": {
    "hash": "d4d1e4263499bec80672ea0156c357c1ee493ec2b1c70f0acce89fc37c4a6abe"
   }
  }
 },
 "nbformat": 4,
 "nbformat_minor": 5
}
