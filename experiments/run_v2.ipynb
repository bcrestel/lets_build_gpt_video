{
 "cells": [
  {
   "cell_type": "markdown",
   "id": "9f9e71d8-1c0f-4301-8d76-82450b9f5cb5",
   "metadata": {},
   "source": [
    "# Preamble"
   ]
  },
  {
   "cell_type": "code",
   "execution_count": 1,
   "id": "bf7ff2fa",
   "metadata": {
    "tags": []
   },
   "outputs": [
    {
     "data": {
      "text/plain": [
       "['../',\n",
       " '/home/experiments',\n",
       " '/opt/conda/lib/python310.zip',\n",
       " '/opt/conda/lib/python3.10',\n",
       " '/opt/conda/lib/python3.10/lib-dynload',\n",
       " '',\n",
       " '/opt/conda/lib/python3.10/site-packages',\n",
       " '/opt/conda/lib/python3.10/site-packages/PyYAML-6.0-py3.10-linux-x86_64.egg']"
      ]
     },
     "execution_count": 1,
     "metadata": {},
     "output_type": "execute_result"
    }
   ],
   "source": [
    "import sys\n",
    "sys.path.insert(0, \"../\")\n",
    "sys.path"
   ]
  },
  {
   "cell_type": "code",
   "execution_count": 2,
   "id": "42ec13cf",
   "metadata": {
    "tags": []
   },
   "outputs": [],
   "source": [
    "import torch\n",
    "from torch.nn import functional\n",
    "\n",
    "from src.text_processor import TextProcessor\n",
    "from src.v2 import BiGram\n",
    "from src.utils.get_device import get_device"
   ]
  },
  {
   "cell_type": "code",
   "execution_count": 3,
   "id": "e57cd007-b590-4c9b-a944-834f5a2080f6",
   "metadata": {
    "tags": []
   },
   "outputs": [],
   "source": [
    "import logging\n",
    "logging.basicConfig(level=logging.INFO, format='%(asctime)s %(levelname)s: %(message)s')"
   ]
  },
  {
   "cell_type": "code",
   "execution_count": 4,
   "id": "818dca6f-71fd-4eda-b3c8-355aba997427",
   "metadata": {
    "tags": []
   },
   "outputs": [
    {
     "data": {
      "text/plain": [
       "'cpu'"
      ]
     },
     "execution_count": 4,
     "metadata": {},
     "output_type": "execute_result"
    }
   ],
   "source": [
    "mydevice = get_device()\n",
    "mydevice"
   ]
  },
  {
   "cell_type": "code",
   "execution_count": 5,
   "id": "8f4569d3",
   "metadata": {
    "tags": []
   },
   "outputs": [],
   "source": [
    "mytext = TextProcessor(\"shakespeare.txt\")"
   ]
  },
  {
   "cell_type": "code",
   "execution_count": 6,
   "id": "f0a955f6",
   "metadata": {
    "tags": []
   },
   "outputs": [],
   "source": [
    "model = BiGram(vocab_size=mytext.vocab_size, dim_token_embedding=32, block_size = 8)"
   ]
  },
  {
   "cell_type": "code",
   "execution_count": 7,
   "id": "8e8c5bdb-683e-454a-a328-db0352f092fb",
   "metadata": {
    "tags": []
   },
   "outputs": [
    {
     "data": {
      "text/plain": [
       "BiGram(\n",
       "  (embedding): Embedding(65, 32)\n",
       "  (map_token_embedding_to_token): Linear(in_features=32, out_features=65, bias=True)\n",
       "  (positional_embedding): Embedding(8, 32)\n",
       ")"
      ]
     },
     "execution_count": 7,
     "metadata": {},
     "output_type": "execute_result"
    }
   ],
   "source": [
    "model.to(mydevice)"
   ]
  },
  {
   "cell_type": "markdown",
   "id": "387c25b2",
   "metadata": {},
   "source": [
    "# Text"
   ]
  },
  {
   "cell_type": "code",
   "execution_count": 7,
   "id": "c9dc2db1",
   "metadata": {
    "tags": []
   },
   "outputs": [
    {
     "data": {
      "text/plain": [
       "65"
      ]
     },
     "execution_count": 7,
     "metadata": {},
     "output_type": "execute_result"
    }
   ],
   "source": [
    "mytext.vocab_size"
   ]
  },
  {
   "cell_type": "code",
   "execution_count": 8,
   "id": "469c14fb",
   "metadata": {
    "scrolled": true,
    "tags": []
   },
   "outputs": [
    {
     "data": {
      "text/plain": [
       "['\\n',\n",
       " ' ',\n",
       " '!',\n",
       " '$',\n",
       " '&',\n",
       " \"'\",\n",
       " ',',\n",
       " '-',\n",
       " '.',\n",
       " '3',\n",
       " ':',\n",
       " ';',\n",
       " '?',\n",
       " 'A',\n",
       " 'B',\n",
       " 'C',\n",
       " 'D',\n",
       " 'E',\n",
       " 'F',\n",
       " 'G',\n",
       " 'H',\n",
       " 'I',\n",
       " 'J',\n",
       " 'K',\n",
       " 'L',\n",
       " 'M',\n",
       " 'N',\n",
       " 'O',\n",
       " 'P',\n",
       " 'Q',\n",
       " 'R',\n",
       " 'S',\n",
       " 'T',\n",
       " 'U',\n",
       " 'V',\n",
       " 'W',\n",
       " 'X',\n",
       " 'Y',\n",
       " 'Z',\n",
       " 'a',\n",
       " 'b',\n",
       " 'c',\n",
       " 'd',\n",
       " 'e',\n",
       " 'f',\n",
       " 'g',\n",
       " 'h',\n",
       " 'i',\n",
       " 'j',\n",
       " 'k',\n",
       " 'l',\n",
       " 'm',\n",
       " 'n',\n",
       " 'o',\n",
       " 'p',\n",
       " 'q',\n",
       " 'r',\n",
       " 's',\n",
       " 't',\n",
       " 'u',\n",
       " 'v',\n",
       " 'w',\n",
       " 'x',\n",
       " 'y',\n",
       " 'z']"
      ]
     },
     "execution_count": 8,
     "metadata": {},
     "output_type": "execute_result"
    }
   ],
   "source": [
    "mytext.all_chars"
   ]
  },
  {
   "cell_type": "code",
   "execution_count": 9,
   "id": "e272950b",
   "metadata": {
    "tags": []
   },
   "outputs": [
    {
     "data": {
      "text/plain": [
       "[46, 43, 50, 50, 53, 3]"
      ]
     },
     "execution_count": 9,
     "metadata": {},
     "output_type": "execute_result"
    }
   ],
   "source": [
    "mytext.convert_string2integer(\"hello$\")"
   ]
  },
  {
   "cell_type": "code",
   "execution_count": 10,
   "id": "41628c78",
   "metadata": {
    "tags": []
   },
   "outputs": [
    {
     "data": {
      "text/plain": [
       "'?eI\\np'"
      ]
     },
     "execution_count": 10,
     "metadata": {},
     "output_type": "execute_result"
    }
   ],
   "source": [
    "mytext.convert_integer2string([12,43,21,0,54])"
   ]
  },
  {
   "cell_type": "code",
   "execution_count": null,
   "id": "ac1bdbe4",
   "metadata": {
    "tags": []
   },
   "outputs": [],
   "source": [
    "mytext.text"
   ]
  },
  {
   "cell_type": "code",
   "execution_count": 12,
   "id": "2c198456",
   "metadata": {
    "tags": []
   },
   "outputs": [
    {
     "data": {
      "text/plain": [
       "tensor([18, 47, 56,  ..., 45,  8,  0])"
      ]
     },
     "execution_count": 12,
     "metadata": {},
     "output_type": "execute_result"
    }
   ],
   "source": [
    "mytext.data"
   ]
  },
  {
   "cell_type": "code",
   "execution_count": 13,
   "id": "99e805f1",
   "metadata": {
    "tags": []
   },
   "outputs": [
    {
     "data": {
      "text/plain": [
       "1115394"
      ]
     },
     "execution_count": 13,
     "metadata": {},
     "output_type": "execute_result"
    }
   ],
   "source": [
    "len(mytext.data)"
   ]
  },
  {
   "cell_type": "code",
   "execution_count": 14,
   "id": "692a9bc4",
   "metadata": {
    "tags": []
   },
   "outputs": [
    {
     "data": {
      "text/plain": [
       "tensor([12,  0,  0,  ..., 45,  8,  0])"
      ]
     },
     "execution_count": 14,
     "metadata": {},
     "output_type": "execute_result"
    }
   ],
   "source": [
    "mytext.data_val"
   ]
  },
  {
   "cell_type": "code",
   "execution_count": 15,
   "id": "b969f55e",
   "metadata": {
    "tags": []
   },
   "outputs": [
    {
     "name": "stdout",
     "output_type": "stream",
     "text": [
      "torch.Size([32, 8]) torch.Size([32, 8])\n"
     ]
    }
   ],
   "source": [
    "x, y = mytext.get_batch(batch_size=32, block_size=8)\n",
    "print(x.shape, y.shape)"
   ]
  },
  {
   "cell_type": "code",
   "execution_count": 16,
   "id": "beac8662",
   "metadata": {
    "tags": []
   },
   "outputs": [
    {
     "name": "stdout",
     "output_type": "stream",
     "text": [
      "0\n",
      "2\n",
      "4\n",
      "6\n",
      "8\n"
     ]
    }
   ],
   "source": [
    "for ii in range(0, 10, 2):\n",
    "    print(ii)"
   ]
  },
  {
   "cell_type": "code",
   "execution_count": 17,
   "id": "a7507948",
   "metadata": {
    "tags": []
   },
   "outputs": [
    {
     "data": {
      "text/plain": [
       "1003854"
      ]
     },
     "execution_count": 17,
     "metadata": {},
     "output_type": "execute_result"
    }
   ],
   "source": [
    "len(mytext.data_train)"
   ]
  },
  {
   "cell_type": "code",
   "execution_count": 18,
   "id": "c57f4617",
   "metadata": {
    "tags": []
   },
   "outputs": [
    {
     "data": {
      "text/plain": [
       "tensor([64, 43, 52, 10,  0])"
      ]
     },
     "execution_count": 18,
     "metadata": {},
     "output_type": "execute_result"
    }
   ],
   "source": [
    "mytext.data_train[10:15]"
   ]
  },
  {
   "cell_type": "code",
   "execution_count": 12,
   "id": "41d16694-6c36-4864-8bf7-181915f65e93",
   "metadata": {
    "tags": []
   },
   "outputs": [],
   "source": [
    "text_it = mytext.iterator_all(batch_size=32, split=\"train\", block_size=8)"
   ]
  },
  {
   "cell_type": "code",
   "execution_count": 16,
   "id": "9242131e-2486-4556-bab2-f9dc2f4578cc",
   "metadata": {
    "tags": []
   },
   "outputs": [
    {
     "name": "stdout",
     "output_type": "stream",
     "text": [
      "torch.Size([32, 8]) torch.Size([32, 8]) torch.Size([32, 8, 65])\n",
      "tensor(4.3692, grad_fn=<NllLossBackward0>)\n"
     ]
    }
   ],
   "source": [
    "for ii in text_it:\n",
    "    x, y = ii\n",
    "    print(x.shape, y.shape, model(x).shape)\n",
    "    print(model.loss(model(x), y))\n",
    "    break"
   ]
  },
  {
   "cell_type": "markdown",
   "id": "33abb487",
   "metadata": {},
   "source": [
    "# Bigram model"
   ]
  },
  {
   "cell_type": "markdown",
   "id": "84fda9bd-5eb8-4a43-9e50-7dbc475be781",
   "metadata": {},
   "source": [
    "## Testing"
   ]
  },
  {
   "cell_type": "markdown",
   "id": "934bdbd9-4b95-43ca-90aa-049bdc89d9f2",
   "metadata": {},
   "source": [
    "### Verify loss in the case batch_size=1, block_size=1"
   ]
  },
  {
   "cell_type": "code",
   "execution_count": 8,
   "id": "a1639896-2aff-4148-9cb3-48b62268d87f",
   "metadata": {
    "tags": []
   },
   "outputs": [],
   "source": [
    "_model = BiGram(vocab_size=mytext.vocab_size, dim_token_embedding=32, block_size = 1)"
   ]
  },
  {
   "cell_type": "code",
   "execution_count": 9,
   "id": "a0ab8e28-b0e5-4389-b7b2-d8b3be2d284d",
   "metadata": {
    "tags": []
   },
   "outputs": [
    {
     "name": "stdout",
     "output_type": "stream",
     "text": [
      "torch.Size([1, 1]) torch.Size([1, 1]) torch.Size([1, 1, 65])\n"
     ]
    }
   ],
   "source": [
    "x, y = mytext.get_batch(batch_size=1, block_size=1)\n",
    "print(x.shape, y.shape, _model(x).shape)"
   ]
  },
  {
   "cell_type": "code",
   "execution_count": 10,
   "id": "c9e4fbe6",
   "metadata": {
    "tags": []
   },
   "outputs": [
    {
     "data": {
      "text/plain": [
       "tensor(4.1078, grad_fn=<NllLossBackward0>)"
      ]
     },
     "execution_count": 10,
     "metadata": {},
     "output_type": "execute_result"
    }
   ],
   "source": [
    "model.loss(_model(x), y)"
   ]
  },
  {
   "cell_type": "code",
   "execution_count": 11,
   "id": "f96d5656",
   "metadata": {
    "tags": []
   },
   "outputs": [
    {
     "data": {
      "text/plain": [
       "tensor([[4.1078]], grad_fn=<NegBackward0>)"
      ]
     },
     "execution_count": 11,
     "metadata": {},
     "output_type": "execute_result"
    }
   ],
   "source": [
    "-(_model(x).exp()/_model(x).exp().sum())[0, 0, y].log()"
   ]
  },
  {
   "cell_type": "markdown",
   "id": "fc703e52-1726-44a5-b817-30a0e77ac38b",
   "metadata": {
    "tags": []
   },
   "source": [
    "### Verify loss in general case"
   ]
  },
  {
   "cell_type": "code",
   "execution_count": 12,
   "id": "cf5bf24c-439f-453e-8229-0cda30ea79dc",
   "metadata": {
    "tags": []
   },
   "outputs": [
    {
     "name": "stdout",
     "output_type": "stream",
     "text": [
      "torch.Size([32, 8]) torch.Size([32, 8]) torch.Size([32, 8, 65])\n"
     ]
    }
   ],
   "source": [
    "x, y = mytext.get_batch(batch_size=32, block_size=model.block_size)\n",
    "model_x = model(x)\n",
    "print(x.shape, y.shape, model(x).shape)"
   ]
  },
  {
   "cell_type": "code",
   "execution_count": 13,
   "id": "baec96e8-b46b-47c7-a2e7-f3a507009502",
   "metadata": {
    "tags": []
   },
   "outputs": [
    {
     "data": {
      "text/plain": [
       "tensor(4.3577, grad_fn=<NllLossBackward0>)"
      ]
     },
     "execution_count": 13,
     "metadata": {},
     "output_type": "execute_result"
    }
   ],
   "source": [
    "model.loss(model_x, y)"
   ]
  },
  {
   "cell_type": "markdown",
   "id": "fa0f273a-008c-4d5e-bd17-44fc10dd1edb",
   "metadata": {},
   "source": [
    "## Train model"
   ]
  },
  {
   "cell_type": "code",
   "execution_count": 8,
   "id": "120e0a6b",
   "metadata": {
    "tags": []
   },
   "outputs": [
    {
     "name": "stderr",
     "output_type": "stream",
     "text": [
      "2023-03-02 11:51:59,109 INFO: Epoch 0: train_loss = 137030.58601474762, eval_loss = 15230.963001966476\n",
      "2023-03-02 11:52:12,770 INFO: Epoch 1: train_loss = 132761.62109375, eval_loss = 14766.106065750122\n",
      "2023-03-02 11:52:26,123 INFO: Epoch 2: train_loss = 128876.8922624588, eval_loss = 14341.531868696213\n",
      "2023-03-02 11:52:39,690 INFO: Epoch 3: train_loss = 125400.47093701363, eval_loss = 13963.03724360466\n",
      "2023-03-02 11:52:54,518 INFO: Epoch 4: train_loss = 122253.63994884491, eval_loss = 13619.354886054993\n"
     ]
    }
   ],
   "source": [
    "model.train(\n",
    "    text=mytext,\n",
    "    nb_epochs=5, # 3000\n",
    "    batch_size=32,\n",
    "    learning_rate=1e-2,\n",
    "    eval_interval = 1,\n",
    ")"
   ]
  },
  {
   "cell_type": "code",
   "execution_count": 9,
   "id": "e3af88d0",
   "metadata": {
    "tags": []
   },
   "outputs": [
    {
     "name": "stderr",
     "output_type": "stream",
     "text": [
      "/home/experiments/../src/v2.py:53: UserWarning: Implicit dimension choice for softmax has been deprecated. Change the call to include dim=X as an argument.\n",
      "  probs = functional.softmax(logits)\n"
     ]
    },
    {
     "data": {
      "text/plain": [
       "tensor([1])"
      ]
     },
     "execution_count": 9,
     "metadata": {},
     "output_type": "execute_result"
    }
   ],
   "source": [
    "model.inference(torch.tensor([0]))"
   ]
  },
  {
   "cell_type": "code",
   "execution_count": 10,
   "id": "32f4bd45",
   "metadata": {},
   "outputs": [
    {
     "name": "stdout",
     "output_type": "stream",
     "text": [
      "\n",
      "ARDWh y an: ir aurt, d s es ES: y,\n",
      "pitharapalloul INE: Wh fof mils sttar: blalackicher thivexpth s avan tr I o wen athare\n",
      "\n",
      "A:\n",
      "By sld he rn.\n",
      "GUCEOfut th n.\n",
      "Cos jurrme urd.\n",
      "HEToven,\n",
      "DUCHein t whastr o,\n",
      "GESHERENou he falos\n",
      "Whay he, Su fath! when PEd:\n",
      "I's out honfrot brif a whesstis hirteid s Tht s, Bes thamagorouthonorter cef, matsu,\n",
      "\n",
      "Me f h shastyof tot,\n",
      "IV:\n",
      "Ofond t rghalle? f t tive ste llu o aicr tt ly, d Ay, towakist toy hinghee mesothet h wnol s Heaclerimerethistle suny,\n",
      "IZAnd inovestre, aly. the.\n",
      "\n",
      "Coueimosem:\n",
      "To IURUThatimyour, he is issemato hthoith.\n",
      "Whone grube\n",
      "cond t y VONENoo:\n",
      "Ask,\n",
      "Nodns hir, othe te onu cos y wh KELUENUS IUCHonoryovillearoufat!'llinom,\n",
      "\n",
      "TUCAur.\n",
      "AR:\n",
      "YO: se t Ancks; by ayomanl faket he's yon mam sheais,-g; w, t! w-n, ishaye.\n",
      "AROMyokitors whind h cer n at gr h tl.\n",
      "\n",
      "TENVI quewighaveaca IG OFachilioodusp S:\n",
      "TUCOUELAlld nch wo be dan, trde. t ghererabur ttowhid?\n",
      "A:\n",
      "RY asell!\n",
      "T: thepr; ceers l oss gord igan ee an s t ard ts o te angr anesieshilesthate s thlllat omu! d\n"
     ]
    }
   ],
   "source": [
    "print(mytext.convert_integer2string(model.generate(1000, idx=torch.tensor([0]))))"
   ]
  },
  {
   "cell_type": "markdown",
   "id": "44e7bb81-8377-499b-9139-5428622eb6e5",
   "metadata": {},
   "source": [
    "# Sandbox"
   ]
  },
  {
   "cell_type": "code",
   "execution_count": 19,
   "id": "75ded1ea",
   "metadata": {
    "tags": []
   },
   "outputs": [
    {
     "data": {
      "text/plain": [
       "tensor([0, 1, 2, 3, 4, 5, 6, 7, 8, 9])"
      ]
     },
     "execution_count": 19,
     "metadata": {},
     "output_type": "execute_result"
    }
   ],
   "source": [
    "x = torch.arange(10)\n",
    "x"
   ]
  },
  {
   "cell_type": "code",
   "execution_count": 20,
   "id": "0212af24-b13e-4c1c-b719-3ecf181d1022",
   "metadata": {
    "tags": []
   },
   "outputs": [],
   "source": [
    "emb = torch.nn.Embedding(10, 25)"
   ]
  },
  {
   "cell_type": "code",
   "execution_count": 22,
   "id": "b4964f57-9053-41ff-aa43-2c738e13c1ff",
   "metadata": {
    "tags": []
   },
   "outputs": [
    {
     "data": {
      "text/plain": [
       "torch.Size([10, 25])"
      ]
     },
     "execution_count": 22,
     "metadata": {},
     "output_type": "execute_result"
    }
   ],
   "source": [
    "emb(x).shape"
   ]
  },
  {
   "cell_type": "code",
   "execution_count": 9,
   "id": "7fdbc829-8862-4ddd-84e7-4fc36e853a69",
   "metadata": {
    "tags": []
   },
   "outputs": [
    {
     "data": {
      "text/plain": [
       "torch.Size([3, 5])"
      ]
     },
     "execution_count": 9,
     "metadata": {},
     "output_type": "execute_result"
    }
   ],
   "source": [
    "torch.stack([torch.ones(5) * ii for ii in range(3)]).shape"
   ]
  },
  {
   "cell_type": "code",
   "execution_count": 13,
   "id": "778f2db2-5801-4242-9cdb-8a821f595437",
   "metadata": {
    "tags": []
   },
   "outputs": [
    {
     "name": "stdout",
     "output_type": "stream",
     "text": [
      "3\n",
      "4\n",
      "5\n",
      "6\n",
      "7\n"
     ]
    }
   ],
   "source": [
    "for ii in range(3, 3 + 5):\n",
    "    print(ii)"
   ]
  },
  {
   "cell_type": "code",
   "execution_count": null,
   "id": "b56f9ea4-4931-4eaa-9b36-b642727d8c66",
   "metadata": {},
   "outputs": [],
   "source": []
  }
 ],
 "metadata": {
  "kernelspec": {
   "display_name": "Python 3 (ipykernel)",
   "language": "python",
   "name": "python3"
  },
  "language_info": {
   "codemirror_mode": {
    "name": "ipython",
    "version": 3
   },
   "file_extension": ".py",
   "mimetype": "text/x-python",
   "name": "python",
   "nbconvert_exporter": "python",
   "pygments_lexer": "ipython3",
   "version": "3.10.8"
  },
  "vscode": {
   "interpreter": {
    "hash": "d4d1e4263499bec80672ea0156c357c1ee493ec2b1c70f0acce89fc37c4a6abe"
   }
  }
 },
 "nbformat": 4,
 "nbformat_minor": 5
}
