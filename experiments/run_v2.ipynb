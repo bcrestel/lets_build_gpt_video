{
 "cells": [
  {
   "cell_type": "markdown",
   "id": "9f9e71d8-1c0f-4301-8d76-82450b9f5cb5",
   "metadata": {},
   "source": [
    "# Preamble"
   ]
  },
  {
   "cell_type": "code",
   "execution_count": 1,
   "id": "914862e5-f99e-472a-bb3f-cbbeee3fbfa8",
   "metadata": {
    "tags": []
   },
   "outputs": [],
   "source": [
    "%load_ext line_profiler"
   ]
  },
  {
   "cell_type": "code",
   "execution_count": 2,
   "id": "bf7ff2fa",
   "metadata": {
    "tags": []
   },
   "outputs": [
    {
     "data": {
      "text/plain": [
       "['../',\n",
       " '/home/experiments',\n",
       " '/opt/conda/lib/python310.zip',\n",
       " '/opt/conda/lib/python3.10',\n",
       " '/opt/conda/lib/python3.10/lib-dynload',\n",
       " '',\n",
       " '/opt/conda/lib/python3.10/site-packages',\n",
       " '/opt/conda/lib/python3.10/site-packages/PyYAML-6.0-py3.10-linux-x86_64.egg']"
      ]
     },
     "execution_count": 2,
     "metadata": {},
     "output_type": "execute_result"
    }
   ],
   "source": [
    "import sys\n",
    "sys.path.insert(0, \"../\")\n",
    "sys.path"
   ]
  },
  {
   "cell_type": "code",
   "execution_count": 3,
   "id": "42ec13cf",
   "metadata": {
    "tags": []
   },
   "outputs": [],
   "source": [
    "import torch\n",
    "from torch.nn import functional\n",
    "\n",
    "from src.text_processor import TextProcessor\n",
    "from src.v2 import BiGram\n",
    "from src.utils.get_device import get_device"
   ]
  },
  {
   "cell_type": "code",
   "execution_count": 4,
   "id": "e57cd007-b590-4c9b-a944-834f5a2080f6",
   "metadata": {
    "tags": []
   },
   "outputs": [],
   "source": [
    "import logging\n",
    "logging.basicConfig(level=logging.INFO, format='%(asctime)s %(levelname)s: %(message)s')"
   ]
  },
  {
   "cell_type": "code",
   "execution_count": 5,
   "id": "818dca6f-71fd-4eda-b3c8-355aba997427",
   "metadata": {
    "tags": []
   },
   "outputs": [
    {
     "data": {
      "text/plain": [
       "'cpu'"
      ]
     },
     "execution_count": 5,
     "metadata": {},
     "output_type": "execute_result"
    }
   ],
   "source": [
    "mydevice = get_device()\n",
    "mydevice"
   ]
  },
  {
   "cell_type": "code",
   "execution_count": 6,
   "id": "8f4569d3",
   "metadata": {
    "tags": []
   },
   "outputs": [],
   "source": [
    "mytext = TextProcessor(\"shakespeare.txt\")"
   ]
  },
  {
   "cell_type": "code",
   "execution_count": 7,
   "id": "f0a955f6",
   "metadata": {
    "tags": []
   },
   "outputs": [],
   "source": [
    "model = BiGram(vocab_size=mytext.vocab_size, dim_token_embedding=32, block_size = 8)"
   ]
  },
  {
   "cell_type": "code",
   "execution_count": 8,
   "id": "8e8c5bdb-683e-454a-a328-db0352f092fb",
   "metadata": {
    "tags": []
   },
   "outputs": [
    {
     "data": {
      "text/plain": [
       "BiGram(\n",
       "  (embedding): Embedding(65, 32)\n",
       "  (map_token_embedding_to_token): Linear(in_features=32, out_features=65, bias=True)\n",
       "  (positional_embedding): Embedding(8, 32)\n",
       ")"
      ]
     },
     "execution_count": 8,
     "metadata": {},
     "output_type": "execute_result"
    }
   ],
   "source": [
    "model.to(mydevice)"
   ]
  },
  {
   "cell_type": "markdown",
   "id": "387c25b2",
   "metadata": {},
   "source": [
    "# Text"
   ]
  },
  {
   "cell_type": "code",
   "execution_count": 9,
   "id": "c9dc2db1",
   "metadata": {
    "tags": []
   },
   "outputs": [
    {
     "data": {
      "text/plain": [
       "65"
      ]
     },
     "execution_count": 9,
     "metadata": {},
     "output_type": "execute_result"
    }
   ],
   "source": [
    "mytext.vocab_size"
   ]
  },
  {
   "cell_type": "code",
   "execution_count": 10,
   "id": "469c14fb",
   "metadata": {
    "scrolled": true,
    "tags": []
   },
   "outputs": [
    {
     "data": {
      "text/plain": [
       "['\\n',\n",
       " ' ',\n",
       " '!',\n",
       " '$',\n",
       " '&',\n",
       " \"'\",\n",
       " ',',\n",
       " '-',\n",
       " '.',\n",
       " '3',\n",
       " ':',\n",
       " ';',\n",
       " '?',\n",
       " 'A',\n",
       " 'B',\n",
       " 'C',\n",
       " 'D',\n",
       " 'E',\n",
       " 'F',\n",
       " 'G',\n",
       " 'H',\n",
       " 'I',\n",
       " 'J',\n",
       " 'K',\n",
       " 'L',\n",
       " 'M',\n",
       " 'N',\n",
       " 'O',\n",
       " 'P',\n",
       " 'Q',\n",
       " 'R',\n",
       " 'S',\n",
       " 'T',\n",
       " 'U',\n",
       " 'V',\n",
       " 'W',\n",
       " 'X',\n",
       " 'Y',\n",
       " 'Z',\n",
       " 'a',\n",
       " 'b',\n",
       " 'c',\n",
       " 'd',\n",
       " 'e',\n",
       " 'f',\n",
       " 'g',\n",
       " 'h',\n",
       " 'i',\n",
       " 'j',\n",
       " 'k',\n",
       " 'l',\n",
       " 'm',\n",
       " 'n',\n",
       " 'o',\n",
       " 'p',\n",
       " 'q',\n",
       " 'r',\n",
       " 's',\n",
       " 't',\n",
       " 'u',\n",
       " 'v',\n",
       " 'w',\n",
       " 'x',\n",
       " 'y',\n",
       " 'z']"
      ]
     },
     "execution_count": 10,
     "metadata": {},
     "output_type": "execute_result"
    }
   ],
   "source": [
    "mytext.all_chars"
   ]
  },
  {
   "cell_type": "code",
   "execution_count": 11,
   "id": "e272950b",
   "metadata": {
    "tags": []
   },
   "outputs": [
    {
     "data": {
      "text/plain": [
       "[46, 43, 50, 50, 53, 3]"
      ]
     },
     "execution_count": 11,
     "metadata": {},
     "output_type": "execute_result"
    }
   ],
   "source": [
    "mytext.convert_string2integer(\"hello$\")"
   ]
  },
  {
   "cell_type": "code",
   "execution_count": 12,
   "id": "41628c78",
   "metadata": {
    "tags": []
   },
   "outputs": [
    {
     "data": {
      "text/plain": [
       "'?eI\\np'"
      ]
     },
     "execution_count": 12,
     "metadata": {},
     "output_type": "execute_result"
    }
   ],
   "source": [
    "mytext.convert_integer2string([12,43,21,0,54])"
   ]
  },
  {
   "cell_type": "code",
   "execution_count": null,
   "id": "ac1bdbe4",
   "metadata": {
    "tags": []
   },
   "outputs": [],
   "source": [
    "mytext.text"
   ]
  },
  {
   "cell_type": "code",
   "execution_count": 14,
   "id": "2c198456",
   "metadata": {
    "tags": []
   },
   "outputs": [
    {
     "data": {
      "text/plain": [
       "tensor([18, 47, 56,  ..., 45,  8,  0])"
      ]
     },
     "execution_count": 14,
     "metadata": {},
     "output_type": "execute_result"
    }
   ],
   "source": [
    "mytext.data"
   ]
  },
  {
   "cell_type": "code",
   "execution_count": 16,
   "id": "99e805f1",
   "metadata": {
    "tags": []
   },
   "outputs": [
    {
     "data": {
      "text/plain": [
       "(1115394, 34856.0625)"
      ]
     },
     "execution_count": 16,
     "metadata": {},
     "output_type": "execute_result"
    }
   ],
   "source": [
    "len(mytext.data), len(mytext.data)/32"
   ]
  },
  {
   "cell_type": "code",
   "execution_count": 14,
   "id": "692a9bc4",
   "metadata": {
    "tags": []
   },
   "outputs": [
    {
     "data": {
      "text/plain": [
       "tensor([12,  0,  0,  ..., 45,  8,  0])"
      ]
     },
     "execution_count": 14,
     "metadata": {},
     "output_type": "execute_result"
    }
   ],
   "source": [
    "mytext.data_val"
   ]
  },
  {
   "cell_type": "code",
   "execution_count": 15,
   "id": "b969f55e",
   "metadata": {
    "tags": []
   },
   "outputs": [
    {
     "name": "stdout",
     "output_type": "stream",
     "text": [
      "torch.Size([32, 8]) torch.Size([32, 8])\n"
     ]
    }
   ],
   "source": [
    "x, y = mytext.get_batch(batch_size=32, block_size=8)\n",
    "print(x.shape, y.shape)"
   ]
  },
  {
   "cell_type": "code",
   "execution_count": 16,
   "id": "beac8662",
   "metadata": {
    "tags": []
   },
   "outputs": [
    {
     "name": "stdout",
     "output_type": "stream",
     "text": [
      "0\n",
      "2\n",
      "4\n",
      "6\n",
      "8\n"
     ]
    }
   ],
   "source": [
    "for ii in range(0, 10, 2):\n",
    "    print(ii)"
   ]
  },
  {
   "cell_type": "code",
   "execution_count": 17,
   "id": "a7507948",
   "metadata": {
    "tags": []
   },
   "outputs": [
    {
     "data": {
      "text/plain": [
       "1003854"
      ]
     },
     "execution_count": 17,
     "metadata": {},
     "output_type": "execute_result"
    }
   ],
   "source": [
    "len(mytext.data_train)"
   ]
  },
  {
   "cell_type": "code",
   "execution_count": 18,
   "id": "c57f4617",
   "metadata": {
    "tags": []
   },
   "outputs": [
    {
     "data": {
      "text/plain": [
       "tensor([64, 43, 52, 10,  0])"
      ]
     },
     "execution_count": 18,
     "metadata": {},
     "output_type": "execute_result"
    }
   ],
   "source": [
    "mytext.data_train[10:15]"
   ]
  },
  {
   "cell_type": "code",
   "execution_count": 12,
   "id": "41d16694-6c36-4864-8bf7-181915f65e93",
   "metadata": {
    "tags": []
   },
   "outputs": [],
   "source": [
    "text_it = mytext.iterator_all(batch_size=32, split=\"train\", block_size=8)"
   ]
  },
  {
   "cell_type": "code",
   "execution_count": 16,
   "id": "9242131e-2486-4556-bab2-f9dc2f4578cc",
   "metadata": {
    "tags": []
   },
   "outputs": [
    {
     "name": "stdout",
     "output_type": "stream",
     "text": [
      "torch.Size([32, 8]) torch.Size([32, 8]) torch.Size([32, 8, 65])\n",
      "tensor(4.3692, grad_fn=<NllLossBackward0>)\n"
     ]
    }
   ],
   "source": [
    "for ii in text_it:\n",
    "    x, y = ii\n",
    "    print(x.shape, y.shape, model(x).shape)\n",
    "    print(model.loss(model(x), y))\n",
    "    break"
   ]
  },
  {
   "cell_type": "markdown",
   "id": "33abb487",
   "metadata": {},
   "source": [
    "# Bigram model"
   ]
  },
  {
   "cell_type": "markdown",
   "id": "84fda9bd-5eb8-4a43-9e50-7dbc475be781",
   "metadata": {},
   "source": [
    "## Testing"
   ]
  },
  {
   "cell_type": "markdown",
   "id": "934bdbd9-4b95-43ca-90aa-049bdc89d9f2",
   "metadata": {},
   "source": [
    "### Verify loss in the case batch_size=1, block_size=1"
   ]
  },
  {
   "cell_type": "code",
   "execution_count": 9,
   "id": "a1639896-2aff-4148-9cb3-48b62268d87f",
   "metadata": {
    "tags": []
   },
   "outputs": [],
   "source": [
    "_model = BiGram(vocab_size=mytext.vocab_size, dim_token_embedding=32, block_size = 1)"
   ]
  },
  {
   "cell_type": "code",
   "execution_count": 10,
   "id": "a0ab8e28-b0e5-4389-b7b2-d8b3be2d284d",
   "metadata": {
    "tags": []
   },
   "outputs": [
    {
     "name": "stdout",
     "output_type": "stream",
     "text": [
      "torch.Size([1, 1]) torch.Size([1, 1]) torch.Size([1, 1, 65])\n"
     ]
    }
   ],
   "source": [
    "x, y = mytext.get_batch(batch_size=1, block_size=1)\n",
    "print(x.shape, y.shape, _model(x).shape)"
   ]
  },
  {
   "cell_type": "code",
   "execution_count": 11,
   "id": "c9e4fbe6",
   "metadata": {
    "tags": []
   },
   "outputs": [
    {
     "data": {
      "text/plain": [
       "tensor(4.0444, grad_fn=<NllLossBackward0>)"
      ]
     },
     "execution_count": 11,
     "metadata": {},
     "output_type": "execute_result"
    }
   ],
   "source": [
    "model.loss(_model(x), y)"
   ]
  },
  {
   "cell_type": "code",
   "execution_count": 12,
   "id": "f96d5656",
   "metadata": {
    "tags": []
   },
   "outputs": [
    {
     "data": {
      "text/plain": [
       "tensor([[4.0444]], grad_fn=<NegBackward0>)"
      ]
     },
     "execution_count": 12,
     "metadata": {},
     "output_type": "execute_result"
    }
   ],
   "source": [
    "-(_model(x).exp()/_model(x).exp().sum())[0, 0, y].log()"
   ]
  },
  {
   "cell_type": "markdown",
   "id": "fc703e52-1726-44a5-b817-30a0e77ac38b",
   "metadata": {
    "tags": []
   },
   "source": [
    "### Verify loss in general case"
   ]
  },
  {
   "cell_type": "code",
   "execution_count": 13,
   "id": "cf5bf24c-439f-453e-8229-0cda30ea79dc",
   "metadata": {
    "tags": []
   },
   "outputs": [
    {
     "name": "stdout",
     "output_type": "stream",
     "text": [
      "torch.Size([32, 8]) torch.Size([32, 8]) torch.Size([32, 8, 65])\n"
     ]
    }
   ],
   "source": [
    "x, y = mytext.get_batch(batch_size=32, block_size=model.block_size)\n",
    "model_x = model(x)\n",
    "print(x.shape, y.shape, model(x).shape)"
   ]
  },
  {
   "cell_type": "code",
   "execution_count": 14,
   "id": "baec96e8-b46b-47c7-a2e7-f3a507009502",
   "metadata": {
    "tags": []
   },
   "outputs": [
    {
     "data": {
      "text/plain": [
       "tensor(4.3987, grad_fn=<NllLossBackward0>)"
      ]
     },
     "execution_count": 14,
     "metadata": {},
     "output_type": "execute_result"
    }
   ],
   "source": [
    "model.loss(model_x, y)"
   ]
  },
  {
   "cell_type": "markdown",
   "id": "99035368-72ee-4584-abff-cfdef8a66535",
   "metadata": {},
   "source": [
    "### Profile code"
   ]
  },
  {
   "cell_type": "code",
   "execution_count": 17,
   "id": "3a204ecc-764f-49d7-b452-10bd2a54310c",
   "metadata": {
    "tags": []
   },
   "outputs": [],
   "source": [
    "def code_to_profile():\n",
    "    model.train(\n",
    "        text=mytext,\n",
    "        nb_epochs=5,\n",
    "        batch_size=32,\n",
    "        learning_rate=1e-2,\n",
    "    )"
   ]
  },
  {
   "cell_type": "code",
   "execution_count": 18,
   "id": "50ee5a20-8e15-4476-a346-61f16784b206",
   "metadata": {
    "tags": []
   },
   "outputs": [
    {
     "name": "stderr",
     "output_type": "stream",
     "text": [
      "2023-03-06 11:33:23,950 INFO: Epoch 0: train_loss = 4.197874546051025, eval_loss = 4.197874546051025\n"
     ]
    },
    {
     "data": {
      "text/plain": [
       "Timer unit: 1e-09 s\n",
       "\n",
       "Total time: 0.515965 s\n",
       "File: /home/experiments/../src/v2.py\n",
       "Function: train at line 65\n",
       "\n",
       "Line #      Hits         Time  Per Hit   % Time  Line Contents\n",
       "==============================================================\n",
       "    65                                               def train(\n",
       "    66                                                   self,\n",
       "    67                                                   nb_epochs: int,\n",
       "    68                                                   text: TextProcessor,\n",
       "    69                                                   batch_size: int = 32,\n",
       "    70                                                   learning_rate: float = 1e-2,\n",
       "    71                                                   nb_batch_eval: int = 200,\n",
       "    72                                                   eval_period: int = 10,\n",
       "    73                                               ):\n",
       "    74         1     277600.0 277600.0      0.1          optimizer = torch.optim.AdamW(self.parameters(), lr=learning_rate)\n",
       "    75         5      53800.0  10760.0      0.0          for ep in range(nb_epochs):\n",
       "    76         5    3214300.0 642860.0      0.6              optimizer.zero_grad()\n",
       "    77         5    9118000.0 1823600.0      1.8              x_train, y_train = text.get_batch(\n",
       "    78         5      47100.0   9420.0      0.0                  batch_size=batch_size, block_size=self.block_size, split=\"train\"\n",
       "    79                                                       )\n",
       "    80         5     533500.0 106700.0      0.1              x_train = x_train.to(self.device)\n",
       "    81         5     261500.0  52300.0      0.1              y_train = y_train.to(self.device)\n",
       "    82         5    7328300.0 1465660.0      1.4              loss = self.loss(logits=self.forward(x_train), y=y_train)\n",
       "    83         5    7428000.0 1485600.0      1.4              loss.backward()\n",
       "    84         5    7276200.0 1455240.0      1.4              optimizer.step()\n",
       "    85                                           \n",
       "    86                                                       # Estimate train and validation loss\n",
       "    87         4      34600.0   8650.0      0.0              if ep % eval_period == 0:\n",
       "    88         1      24600.0  24600.0      0.0                  with torch.no_grad():\n",
       "    89         1       8500.0   8500.0      0.0                      loss_split = {}\n",
       "    90         2      16300.0   8150.0      0.0                      for split in [\"train\", \"val\"]:\n",
       "    91         2      79300.0  39650.0      0.0                          _all_losses = []\n",
       "    92       400    3128200.0   7820.5      0.6                          for bb in range(nb_batch_eval):\n",
       "    93       400  341356200.0 853390.5     66.2                              x_, y_ = text.get_batch(\n",
       "    94       400    3032100.0   7580.2      0.6                                  batch_size=batch_size, block_size=self.block_size, split=split\n",
       "    95                                                                       )\n",
       "    96       400   14377700.0  35944.2      2.8                              x_ = x_train.to(self.device)\n",
       "    97       400   11551900.0  28879.8      2.2                              y_ = y_train.to(self.device)\n",
       "    98       400   98151200.0 245378.0     19.0                              loss_ = self.loss(logits=self.forward(x_), y=y_)\n",
       "    99       400    3532200.0   8830.5      0.7                              _all_losses.append(loss_)\n",
       "   100         2    1026200.0 513100.0      0.2                          loss_split[split] = sum(_all_losses) / (nb_batch_eval)\n",
       "   101         1    4074000.0 4074000.0      0.8                      logger.info(\n",
       "   102         1      33500.0  33500.0      0.0                          f\"Epoch {ep}: train_loss = {loss_split['train']}, eval_loss = {loss_split['val']}\"\n",
       "   103                                                               )"
      ]
     },
     "metadata": {},
     "output_type": "display_data"
    }
   ],
   "source": [
    "%lprun -f model.train code_to_profile()"
   ]
  },
  {
   "cell_type": "markdown",
   "id": "fa0f273a-008c-4d5e-bd17-44fc10dd1edb",
   "metadata": {},
   "source": [
    "## Train model"
   ]
  },
  {
   "cell_type": "code",
   "execution_count": 10,
   "id": "120e0a6b",
   "metadata": {
    "tags": []
   },
   "outputs": [
    {
     "name": "stderr",
     "output_type": "stream",
     "text": [
      "2023-03-06 11:35:53,859 INFO: Epoch 0: train_loss = 4.212040424346924, eval_loss = 4.212040424346924\n",
      "2023-03-06 11:35:54,740 INFO: Epoch 300: train_loss = 2.6286563873291016, eval_loss = 2.6286563873291016\n",
      "2023-03-06 11:35:55,616 INFO: Epoch 600: train_loss = 2.494049310684204, eval_loss = 2.494049310684204\n",
      "2023-03-06 11:35:56,468 INFO: Epoch 900: train_loss = 2.6837546825408936, eval_loss = 2.6837546825408936\n",
      "2023-03-06 11:35:57,327 INFO: Epoch 1200: train_loss = 2.4976119995117188, eval_loss = 2.4976119995117188\n",
      "2023-03-06 11:35:58,221 INFO: Epoch 1500: train_loss = 2.5835940837860107, eval_loss = 2.5835940837860107\n",
      "2023-03-06 11:35:59,110 INFO: Epoch 1800: train_loss = 2.590355157852173, eval_loss = 2.590355157852173\n",
      "2023-03-06 11:35:59,993 INFO: Epoch 2100: train_loss = 2.4787962436676025, eval_loss = 2.4787962436676025\n",
      "2023-03-06 11:36:00,882 INFO: Epoch 2400: train_loss = 2.479492425918579, eval_loss = 2.479492425918579\n",
      "2023-03-06 11:36:01,852 INFO: Epoch 2700: train_loss = 2.534669876098633, eval_loss = 2.534669876098633\n"
     ]
    }
   ],
   "source": [
    "model.train(\n",
    "    text=mytext,\n",
    "    nb_epochs=3000,\n",
    "    batch_size=32,\n",
    "    learning_rate=1e-2,\n",
    ")"
   ]
  },
  {
   "cell_type": "code",
   "execution_count": 11,
   "id": "e3af88d0",
   "metadata": {
    "tags": []
   },
   "outputs": [
    {
     "name": "stderr",
     "output_type": "stream",
     "text": [
      "/home/experiments/../src/v2.py:53: UserWarning: Implicit dimension choice for softmax has been deprecated. Change the call to include dim=X as an argument.\n",
      "  probs = functional.softmax(logits)\n"
     ]
    },
    {
     "data": {
      "text/plain": [
       "tensor([16])"
      ]
     },
     "execution_count": 11,
     "metadata": {},
     "output_type": "execute_result"
    }
   ],
   "source": [
    "model.inference(torch.tensor([0]))"
   ]
  },
  {
   "cell_type": "code",
   "execution_count": 12,
   "id": "32f4bd45",
   "metadata": {
    "tags": []
   },
   "outputs": [
    {
     "name": "stdout",
     "output_type": "stream",
     "text": [
      "\n",
      "N?3GBFGMH-:&;IHSEBM\n",
      "GNFF;RF?3:3GM!SEQ,,P'BAD,J?!FFK?3GDAC?3$DGIG!C'3S\n",
      "MNF&.3JM$$K$DBO&HNS$I;-JEL 'KRI'FQG?RJ\n",
      "AG\n",
      "F'LO?NFQQB?QEGF;BBHR& J?NFC?IO\n",
      "'?QO'&!AHN?PK&3L?:3GBHM\n",
      "B!C$FJ-D \n",
      "DG';M! ;-$PCQO!OGFG?3GM-.-O\n",
      "J'MNH!;K:R';R,P'FN&\n",
      "GP'J'&K&;K:Q\n",
      "M'3;-\n",
      "-D\n",
      "H?3R,,D-\n",
      "P'I\n",
      "-ICPMH?M-$?N ;3?K3SRQSRKNS3G'$\n",
      "G'S\n",
      ":-:3''N,&G&HCFB?M.3:3DEEM\n",
      "PHRS,H-&S\n",
      "JJFD-AC,M\n",
      ",&QBFK'EJ,K:S3!RQE!\n",
      "GFKNF-CE&&DGQ,;I$ D 3'!?3G'IF&J'DRQB$H\n",
      ",M.R ?3CQM\n",
      "S!C\n",
      ",K:MS,'EF I3:OH?NNFDM'QB J?I\n",
      "E$OC'ERS3JF?-RF$B?K:Q,-ROGDBA!S.QB :QCBC$J'NEQ-&KSNMC!-J'QBM!3$$G'.!;IRCSDRQB !L'BJ?&-MRKP$R:3! & .G' M BC?3-3IR,HPDRQO$M3GDJO\n",
      "S&.I;KC,3?F\n",
      "\n",
      "MDMDLCESM!;IREGF-'A!N\n",
      "GF&E!G'3' DQSKBCQSMB $ N\n",
      "SE&CP'IJJBC?EGQMFF?&O'3GRJ?P&::'M3:BC?QS\n",
      "R3JHJ3M3'IH\n",
      "\n",
      "P&-F.P?Q?3?HRENF&M ;-'3'\n",
      ",:F&$M\n",
      "'SNMH?3SJ'S:3MR&'',;3DB?-N3:F&!K:FK$FK,SABGD\n",
      "JF?3OF-K:&IO'LIO,' C'!'\n",
      "\n",
      "'B GF'IKRQ&N.M .$?3&'IG:F'&L,3'CO$OABO&KRREFML?RSK:I33S?3!'HM:,HAB?N3\n",
      ",H?'MR'M'C?GQNARQSNM3H\n",
      "LM'B-B$G'&3?3JF'\n",
      "QBJK:B?3',K:-DA!O!\n",
      "PK.BF-E&:P'OE.B;G\n",
      "M'L?HRG?SJFK$$G,F E$DJBAAR,CK:PK$PJ'N!3C?RAM?3J'BF  FQEG&PIRQSRQS,\n"
     ]
    }
   ],
   "source": [
    "print(mytext.convert_integer2string(model.generate(1000, idx=torch.tensor([0]))))"
   ]
  },
  {
   "cell_type": "markdown",
   "id": "44e7bb81-8377-499b-9139-5428622eb6e5",
   "metadata": {},
   "source": [
    "# Sandbox"
   ]
  },
  {
   "cell_type": "code",
   "execution_count": 19,
   "id": "75ded1ea",
   "metadata": {
    "tags": []
   },
   "outputs": [
    {
     "data": {
      "text/plain": [
       "tensor([0, 1, 2, 3, 4, 5, 6, 7, 8, 9])"
      ]
     },
     "execution_count": 19,
     "metadata": {},
     "output_type": "execute_result"
    }
   ],
   "source": [
    "x = torch.arange(10)\n",
    "x"
   ]
  },
  {
   "cell_type": "code",
   "execution_count": 20,
   "id": "0212af24-b13e-4c1c-b719-3ecf181d1022",
   "metadata": {
    "tags": []
   },
   "outputs": [],
   "source": [
    "emb = torch.nn.Embedding(10, 25)"
   ]
  },
  {
   "cell_type": "code",
   "execution_count": 22,
   "id": "b4964f57-9053-41ff-aa43-2c738e13c1ff",
   "metadata": {
    "tags": []
   },
   "outputs": [
    {
     "data": {
      "text/plain": [
       "torch.Size([10, 25])"
      ]
     },
     "execution_count": 22,
     "metadata": {},
     "output_type": "execute_result"
    }
   ],
   "source": [
    "emb(x).shape"
   ]
  },
  {
   "cell_type": "code",
   "execution_count": 9,
   "id": "7fdbc829-8862-4ddd-84e7-4fc36e853a69",
   "metadata": {
    "tags": []
   },
   "outputs": [
    {
     "data": {
      "text/plain": [
       "torch.Size([3, 5])"
      ]
     },
     "execution_count": 9,
     "metadata": {},
     "output_type": "execute_result"
    }
   ],
   "source": [
    "torch.stack([torch.ones(5) * ii for ii in range(3)]).shape"
   ]
  },
  {
   "cell_type": "code",
   "execution_count": 13,
   "id": "778f2db2-5801-4242-9cdb-8a821f595437",
   "metadata": {
    "tags": []
   },
   "outputs": [
    {
     "name": "stdout",
     "output_type": "stream",
     "text": [
      "3\n",
      "4\n",
      "5\n",
      "6\n",
      "7\n"
     ]
    }
   ],
   "source": [
    "for ii in range(3, 3 + 5):\n",
    "    print(ii)"
   ]
  },
  {
   "cell_type": "code",
   "execution_count": null,
   "id": "b56f9ea4-4931-4eaa-9b36-b642727d8c66",
   "metadata": {},
   "outputs": [],
   "source": []
  }
 ],
 "metadata": {
  "kernelspec": {
   "display_name": "Python 3 (ipykernel)",
   "language": "python",
   "name": "python3"
  },
  "language_info": {
   "codemirror_mode": {
    "name": "ipython",
    "version": 3
   },
   "file_extension": ".py",
   "mimetype": "text/x-python",
   "name": "python",
   "nbconvert_exporter": "python",
   "pygments_lexer": "ipython3",
   "version": "3.10.8"
  },
  "vscode": {
   "interpreter": {
    "hash": "d4d1e4263499bec80672ea0156c357c1ee493ec2b1c70f0acce89fc37c4a6abe"
   }
  }
 },
 "nbformat": 4,
 "nbformat_minor": 5
}
