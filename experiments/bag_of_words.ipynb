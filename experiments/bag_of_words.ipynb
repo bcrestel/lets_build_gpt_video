{
 "cells": [
  {
   "cell_type": "code",
   "execution_count": 1,
   "id": "0b321b8c-59ad-47e2-a5aa-37359ab789e3",
   "metadata": {
    "tags": []
   },
   "outputs": [],
   "source": [
    "import torch\n",
    "from torch.nn import functional"
   ]
  },
  {
   "cell_type": "markdown",
   "id": "b7a1bf6e-9ad9-4036-93ef-4e03aac09489",
   "metadata": {},
   "source": [
    "# Understanding what @ does"
   ]
  },
  {
   "cell_type": "markdown",
   "id": "e040cd12-dc87-4b2e-8c8d-02255e46fbe7",
   "metadata": {},
   "source": [
    "The symbol @ is a replacemnt for matmul, which does batch matrix-matrix multiplcation. It basically does a mat-mat multiplication on the last 2 dimensions, and broadcast everything else if it can."
   ]
  },
  {
   "cell_type": "code",
   "execution_count": 2,
   "id": "30245feb-7ba7-4181-b2d9-2386475044cf",
   "metadata": {
    "tags": []
   },
   "outputs": [
    {
     "data": {
      "text/plain": [
       "torch.Size([3, 5, 2, 3])"
      ]
     },
     "execution_count": 2,
     "metadata": {},
     "output_type": "execute_result"
    }
   ],
   "source": [
    "B = torch.randn(3, 1, 2, 2)\n",
    "C = torch.randn(5, 2, 3)\n",
    "D = B @ C\n",
    "D.shape"
   ]
  },
  {
   "cell_type": "code",
   "execution_count": 3,
   "id": "8263131f-2ade-47c0-90fa-9263a402bcd5",
   "metadata": {
    "tags": []
   },
   "outputs": [
    {
     "data": {
      "text/plain": [
       "tensor([[ 0.6361, -0.3220,  1.7799],\n",
       "        [ 2.2120, -1.2736,  0.7472]])"
      ]
     },
     "execution_count": 3,
     "metadata": {},
     "output_type": "execute_result"
    }
   ],
   "source": [
    "torch.matmul(B[1, 0, :], C[2, :])"
   ]
  },
  {
   "cell_type": "code",
   "execution_count": 4,
   "id": "ab5d1e88-f165-44de-aacd-7a1a1e0a5dc3",
   "metadata": {
    "tags": []
   },
   "outputs": [
    {
     "data": {
      "text/plain": [
       "tensor([[ 0.6361, -0.3220,  1.7799],\n",
       "        [ 2.2120, -1.2736,  0.7472]])"
      ]
     },
     "execution_count": 4,
     "metadata": {},
     "output_type": "execute_result"
    }
   ],
   "source": [
    "D[1, 2, :]"
   ]
  },
  {
   "cell_type": "code",
   "execution_count": 6,
   "id": "d77a3911-e087-4dab-b60a-6183e3687561",
   "metadata": {
    "tags": []
   },
   "outputs": [
    {
     "data": {
      "text/plain": [
       "torch.Size([3, 6, 4, 2])"
      ]
     },
     "execution_count": 6,
     "metadata": {},
     "output_type": "execute_result"
    }
   ],
   "source": [
    "# Reverse the order\n",
    "C = torch.randn(6, 4, 2)\n",
    "D = C @ B\n",
    "D.shape"
   ]
  },
  {
   "cell_type": "markdown",
   "id": "16a9e47e-157c-40e6-8881-36961156e939",
   "metadata": {},
   "source": [
    "# Efficient bag of words calculation"
   ]
  },
  {
   "cell_type": "code",
   "execution_count": 36,
   "id": "9f65f830-dfd5-464d-b307-c0fa7b7be70c",
   "metadata": {
    "tags": []
   },
   "outputs": [
    {
     "data": {
      "text/plain": [
       "tensor([[1.],\n",
       "        [2.],\n",
       "        [3.],\n",
       "        [4.],\n",
       "        [5.],\n",
       "        [6.],\n",
       "        [7.],\n",
       "        [8.]])"
      ]
     },
     "execution_count": 36,
     "metadata": {},
     "output_type": "execute_result"
    }
   ],
   "source": [
    "B = torch.tril(torch.ones(8, 8))\n",
    "B.sum(1, keepdim=True)"
   ]
  },
  {
   "cell_type": "code",
   "execution_count": 38,
   "id": "66aa6d32-4c71-4df2-bf01-33ee11a1a411",
   "metadata": {
    "tags": []
   },
   "outputs": [
    {
     "data": {
      "text/plain": [
       "tensor([[1.0000, 0.0000, 0.0000, 0.0000, 0.0000, 0.0000, 0.0000, 0.0000],\n",
       "        [0.5000, 0.5000, 0.0000, 0.0000, 0.0000, 0.0000, 0.0000, 0.0000],\n",
       "        [0.3333, 0.3333, 0.3333, 0.0000, 0.0000, 0.0000, 0.0000, 0.0000],\n",
       "        [0.2500, 0.2500, 0.2500, 0.2500, 0.0000, 0.0000, 0.0000, 0.0000],\n",
       "        [0.2000, 0.2000, 0.2000, 0.2000, 0.2000, 0.0000, 0.0000, 0.0000],\n",
       "        [0.1667, 0.1667, 0.1667, 0.1667, 0.1667, 0.1667, 0.0000, 0.0000],\n",
       "        [0.1429, 0.1429, 0.1429, 0.1429, 0.1429, 0.1429, 0.1429, 0.0000],\n",
       "        [0.1250, 0.1250, 0.1250, 0.1250, 0.1250, 0.1250, 0.1250, 0.1250]])"
      ]
     },
     "execution_count": 38,
     "metadata": {},
     "output_type": "execute_result"
    }
   ],
   "source": [
    "weights = B / B.sum(1, keepdim=True)\n",
    "weights"
   ]
  },
  {
   "cell_type": "code",
   "execution_count": 40,
   "id": "c256bf51-5556-4fbf-a59e-7f1b99658c01",
   "metadata": {
    "tags": []
   },
   "outputs": [
    {
     "data": {
      "text/plain": [
       "torch.Size([4, 8, 2])"
      ]
     },
     "execution_count": 40,
     "metadata": {},
     "output_type": "execute_result"
    }
   ],
   "source": [
    "C = torch.randn(4, 8, 2)\n",
    "D = B @ C\n",
    "D.shape"
   ]
  },
  {
   "cell_type": "markdown",
   "id": "e6993052-f339-4f63-a66f-9a677dce2f71",
   "metadata": {},
   "source": [
    "# Beginning of self-attention"
   ]
  },
  {
   "cell_type": "markdown",
   "id": "eee9cd64-a885-422a-acd4-7963c537216c",
   "metadata": {},
   "source": [
    "In practice, we don't want a simple average, we want a weighted average and we want to learn the weights. That's why you can rewrite this weighting matrix using a masked_fill and Softmax"
   ]
  },
  {
   "cell_type": "code",
   "execution_count": 46,
   "id": "00e9e4da-014c-4245-a8e3-6857d2438e01",
   "metadata": {
    "tags": []
   },
   "outputs": [
    {
     "data": {
      "text/plain": [
       "tensor([[1., 0., 0., 0., 0., 0., 0., 0.],\n",
       "        [1., 1., 0., 0., 0., 0., 0., 0.],\n",
       "        [1., 1., 1., 0., 0., 0., 0., 0.],\n",
       "        [1., 1., 1., 1., 0., 0., 0., 0.],\n",
       "        [1., 1., 1., 1., 1., 0., 0., 0.],\n",
       "        [1., 1., 1., 1., 1., 1., 0., 0.],\n",
       "        [1., 1., 1., 1., 1., 1., 1., 0.],\n",
       "        [1., 1., 1., 1., 1., 1., 1., 1.]])"
      ]
     },
     "execution_count": 46,
     "metadata": {},
     "output_type": "execute_result"
    }
   ],
   "source": [
    "mask = torch.tril(torch.ones(8, 8))\n",
    "mask"
   ]
  },
  {
   "cell_type": "code",
   "execution_count": 49,
   "id": "5e3ff1a3-b76f-4bee-995f-6927f56f3423",
   "metadata": {
    "tags": []
   },
   "outputs": [
    {
     "data": {
      "text/plain": [
       "tensor([[0., -inf, -inf, -inf, -inf, -inf, -inf, -inf],\n",
       "        [0., 0., -inf, -inf, -inf, -inf, -inf, -inf],\n",
       "        [0., 0., 0., -inf, -inf, -inf, -inf, -inf],\n",
       "        [0., 0., 0., 0., -inf, -inf, -inf, -inf],\n",
       "        [0., 0., 0., 0., 0., -inf, -inf, -inf],\n",
       "        [0., 0., 0., 0., 0., 0., -inf, -inf],\n",
       "        [0., 0., 0., 0., 0., 0., 0., -inf],\n",
       "        [0., 0., 0., 0., 0., 0., 0., 0.]])"
      ]
     },
     "execution_count": 49,
     "metadata": {},
     "output_type": "execute_result"
    }
   ],
   "source": [
    "weights = torch.zeros(8, 8)\n",
    "weights.masked_fill_(mask==0, float(\"-inf\"))\n",
    "weights"
   ]
  },
  {
   "cell_type": "code",
   "execution_count": 52,
   "id": "336a1c29-05e4-4ee0-b83f-23273ecc6cbe",
   "metadata": {
    "tags": []
   },
   "outputs": [
    {
     "data": {
      "text/plain": [
       "tensor([[1.0000, 0.0000, 0.0000, 0.0000, 0.0000, 0.0000, 0.0000, 0.0000],\n",
       "        [0.5000, 0.5000, 0.0000, 0.0000, 0.0000, 0.0000, 0.0000, 0.0000],\n",
       "        [0.3333, 0.3333, 0.3333, 0.0000, 0.0000, 0.0000, 0.0000, 0.0000],\n",
       "        [0.2500, 0.2500, 0.2500, 0.2500, 0.0000, 0.0000, 0.0000, 0.0000],\n",
       "        [0.2000, 0.2000, 0.2000, 0.2000, 0.2000, 0.0000, 0.0000, 0.0000],\n",
       "        [0.1667, 0.1667, 0.1667, 0.1667, 0.1667, 0.1667, 0.0000, 0.0000],\n",
       "        [0.1429, 0.1429, 0.1429, 0.1429, 0.1429, 0.1429, 0.1429, 0.0000],\n",
       "        [0.1250, 0.1250, 0.1250, 0.1250, 0.1250, 0.1250, 0.1250, 0.1250]])"
      ]
     },
     "execution_count": 52,
     "metadata": {},
     "output_type": "execute_result"
    }
   ],
   "source": [
    "functional.softmax(weights, dim=-1) # softmax along the last dimension"
   ]
  },
  {
   "cell_type": "markdown",
   "id": "80ff6e30-e298-4ad2-b332-4ac330cf9cef",
   "metadata": {},
   "source": [
    "## Example with non-constant initial weights"
   ]
  },
  {
   "cell_type": "code",
   "execution_count": 53,
   "id": "e667c97d-d75a-4a85-90e9-815e81b8fef4",
   "metadata": {
    "tags": []
   },
   "outputs": [
    {
     "data": {
      "text/plain": [
       "tensor([[-0.1661,    -inf,    -inf,    -inf,    -inf,    -inf,    -inf,    -inf],\n",
       "        [ 0.7549, -0.6352,    -inf,    -inf,    -inf,    -inf,    -inf,    -inf],\n",
       "        [-0.5888,  0.5921, -0.5735,    -inf,    -inf,    -inf,    -inf,    -inf],\n",
       "        [-1.4654, -0.8489,  1.1032, -1.4104,    -inf,    -inf,    -inf,    -inf],\n",
       "        [ 1.3734,  0.6371,  2.6707, -0.2718,  0.9070,    -inf,    -inf,    -inf],\n",
       "        [-2.8097, -0.5699,  1.3901, -1.0474, -0.7544, -0.5896,    -inf,    -inf],\n",
       "        [-0.7703, -0.4959,  0.7730,  0.2219,  0.2030,  1.0977,  1.0572,    -inf],\n",
       "        [-0.9147, -0.9655, -0.5338,  0.6499, -0.9065,  0.8309,  0.4588, -1.3579]])"
      ]
     },
     "execution_count": 53,
     "metadata": {},
     "output_type": "execute_result"
    }
   ],
   "source": [
    "weights = torch.randn(8, 8)\n",
    "weights.masked_fill_(mask==0, float(\"-inf\"))\n",
    "weights"
   ]
  },
  {
   "cell_type": "code",
   "execution_count": 54,
   "id": "c4c012dd-d53c-402c-8cc3-c9b2af8d829c",
   "metadata": {
    "tags": []
   },
   "outputs": [
    {
     "data": {
      "text/plain": [
       "tensor([[1.0000, 0.0000, 0.0000, 0.0000, 0.0000, 0.0000, 0.0000, 0.0000],\n",
       "        [0.8006, 0.1994, 0.0000, 0.0000, 0.0000, 0.0000, 0.0000, 0.0000],\n",
       "        [0.1897, 0.6178, 0.1926, 0.0000, 0.0000, 0.0000, 0.0000, 0.0000],\n",
       "        [0.0590, 0.1092, 0.7695, 0.0623, 0.0000, 0.0000, 0.0000, 0.0000],\n",
       "        [0.1678, 0.0804, 0.6141, 0.0324, 0.1053, 0.0000, 0.0000, 0.0000],\n",
       "        [0.0100, 0.0940, 0.6673, 0.0583, 0.0782, 0.0922, 0.0000, 0.0000],\n",
       "        [0.0399, 0.0526, 0.1870, 0.1077, 0.1057, 0.2587, 0.2484, 0.0000],\n",
       "        [0.0512, 0.0487, 0.0750, 0.2449, 0.0516, 0.2935, 0.2023, 0.0329]])"
      ]
     },
     "execution_count": 54,
     "metadata": {},
     "output_type": "execute_result"
    }
   ],
   "source": [
    "functional.softmax(weights, dim=-1)"
   ]
  },
  {
   "cell_type": "code",
   "execution_count": 55,
   "id": "88841c38-dceb-4ffc-83b3-c19639f32529",
   "metadata": {
    "tags": []
   },
   "outputs": [
    {
     "data": {
      "text/plain": [
       "tensor([[1.0000],\n",
       "        [1.0000],\n",
       "        [1.0000],\n",
       "        [1.0000],\n",
       "        [1.0000],\n",
       "        [1.0000],\n",
       "        [1.0000],\n",
       "        [1.0000]])"
      ]
     },
     "execution_count": 55,
     "metadata": {},
     "output_type": "execute_result"
    }
   ],
   "source": [
    "functional.softmax(weights, dim=-1).sum(dim=-1, keepdim=True)"
   ]
  },
  {
   "cell_type": "code",
   "execution_count": null,
   "id": "11535f88-7481-4a81-99f7-0f21066d59bf",
   "metadata": {},
   "outputs": [],
   "source": []
  }
 ],
 "metadata": {
  "kernelspec": {
   "display_name": "Python 3 (ipykernel)",
   "language": "python",
   "name": "python3"
  },
  "language_info": {
   "codemirror_mode": {
    "name": "ipython",
    "version": 3
   },
   "file_extension": ".py",
   "mimetype": "text/x-python",
   "name": "python",
   "nbconvert_exporter": "python",
   "pygments_lexer": "ipython3",
   "version": "3.10.8"
  }
 },
 "nbformat": 4,
 "nbformat_minor": 5
}
