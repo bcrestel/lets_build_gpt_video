{
 "cells": [
  {
   "cell_type": "markdown",
   "id": "e550d780-c4ff-4d28-a37d-f845c03b52b9",
   "metadata": {},
   "source": [
    "# Preamble"
   ]
  },
  {
   "cell_type": "code",
   "execution_count": 1,
   "id": "79f1dee7-1995-4d10-8438-5e5f35709dd9",
   "metadata": {
    "tags": []
   },
   "outputs": [],
   "source": [
    "import sys\n",
    "sys.path.append(\"../\")"
   ]
  },
  {
   "cell_type": "code",
   "execution_count": 8,
   "id": "0b321b8c-59ad-47e2-a5aa-37359ab789e3",
   "metadata": {
    "tags": []
   },
   "outputs": [],
   "source": [
    "import torch\n",
    "import torch.nn as nn\n",
    "from torch.nn import functional\n",
    "\n",
    "from src.self_attention import ScaledDotProductSelfAttentionHead"
   ]
  },
  {
   "cell_type": "markdown",
   "id": "b7a1bf6e-9ad9-4036-93ef-4e03aac09489",
   "metadata": {},
   "source": [
    "# Understanding what @ does"
   ]
  },
  {
   "cell_type": "markdown",
   "id": "e040cd12-dc87-4b2e-8c8d-02255e46fbe7",
   "metadata": {},
   "source": [
    "The symbol @ is a replacemnt for matmul, which does batch matrix-matrix multiplcation. It basically does a mat-mat multiplication on the last 2 dimensions, and broadcast everything else if it can."
   ]
  },
  {
   "cell_type": "code",
   "execution_count": 2,
   "id": "30245feb-7ba7-4181-b2d9-2386475044cf",
   "metadata": {
    "tags": []
   },
   "outputs": [
    {
     "data": {
      "text/plain": [
       "torch.Size([3, 5, 2, 3])"
      ]
     },
     "execution_count": 2,
     "metadata": {},
     "output_type": "execute_result"
    }
   ],
   "source": [
    "B = torch.randn(3, 1, 2, 2)\n",
    "C = torch.randn(5, 2, 3)\n",
    "D = B @ C\n",
    "D.shape"
   ]
  },
  {
   "cell_type": "code",
   "execution_count": 3,
   "id": "8263131f-2ade-47c0-90fa-9263a402bcd5",
   "metadata": {
    "tags": []
   },
   "outputs": [
    {
     "data": {
      "text/plain": [
       "tensor([[-3.2130, -0.6345, -3.4687],\n",
       "        [ 0.4709,  0.0288,  0.3812]])"
      ]
     },
     "execution_count": 3,
     "metadata": {},
     "output_type": "execute_result"
    }
   ],
   "source": [
    "torch.matmul(B[1, 0, :], C[2, :])"
   ]
  },
  {
   "cell_type": "code",
   "execution_count": 4,
   "id": "ab5d1e88-f165-44de-aacd-7a1a1e0a5dc3",
   "metadata": {
    "tags": []
   },
   "outputs": [
    {
     "data": {
      "text/plain": [
       "tensor([[-3.2130, -0.6345, -3.4687],\n",
       "        [ 0.4709,  0.0288,  0.3812]])"
      ]
     },
     "execution_count": 4,
     "metadata": {},
     "output_type": "execute_result"
    }
   ],
   "source": [
    "D[1, 2, :]"
   ]
  },
  {
   "cell_type": "code",
   "execution_count": 5,
   "id": "d77a3911-e087-4dab-b60a-6183e3687561",
   "metadata": {
    "tags": []
   },
   "outputs": [
    {
     "data": {
      "text/plain": [
       "torch.Size([3, 6, 4, 2])"
      ]
     },
     "execution_count": 5,
     "metadata": {},
     "output_type": "execute_result"
    }
   ],
   "source": [
    "# Reverse the order\n",
    "C = torch.randn(6, 4, 2)\n",
    "D = C @ B\n",
    "D.shape"
   ]
  },
  {
   "cell_type": "markdown",
   "id": "16a9e47e-157c-40e6-8881-36961156e939",
   "metadata": {},
   "source": [
    "# Efficient bag of words calculation"
   ]
  },
  {
   "cell_type": "code",
   "execution_count": 6,
   "id": "9f65f830-dfd5-464d-b307-c0fa7b7be70c",
   "metadata": {
    "tags": []
   },
   "outputs": [
    {
     "data": {
      "text/plain": [
       "tensor([[1.],\n",
       "        [2.],\n",
       "        [3.],\n",
       "        [4.],\n",
       "        [5.],\n",
       "        [6.],\n",
       "        [7.],\n",
       "        [8.]])"
      ]
     },
     "execution_count": 6,
     "metadata": {},
     "output_type": "execute_result"
    }
   ],
   "source": [
    "B = torch.tril(torch.ones(8, 8))\n",
    "B.sum(1, keepdim=True)"
   ]
  },
  {
   "cell_type": "code",
   "execution_count": 7,
   "id": "66aa6d32-4c71-4df2-bf01-33ee11a1a411",
   "metadata": {
    "tags": []
   },
   "outputs": [
    {
     "data": {
      "text/plain": [
       "tensor([[1.0000, 0.0000, 0.0000, 0.0000, 0.0000, 0.0000, 0.0000, 0.0000],\n",
       "        [0.5000, 0.5000, 0.0000, 0.0000, 0.0000, 0.0000, 0.0000, 0.0000],\n",
       "        [0.3333, 0.3333, 0.3333, 0.0000, 0.0000, 0.0000, 0.0000, 0.0000],\n",
       "        [0.2500, 0.2500, 0.2500, 0.2500, 0.0000, 0.0000, 0.0000, 0.0000],\n",
       "        [0.2000, 0.2000, 0.2000, 0.2000, 0.2000, 0.0000, 0.0000, 0.0000],\n",
       "        [0.1667, 0.1667, 0.1667, 0.1667, 0.1667, 0.1667, 0.0000, 0.0000],\n",
       "        [0.1429, 0.1429, 0.1429, 0.1429, 0.1429, 0.1429, 0.1429, 0.0000],\n",
       "        [0.1250, 0.1250, 0.1250, 0.1250, 0.1250, 0.1250, 0.1250, 0.1250]])"
      ]
     },
     "execution_count": 7,
     "metadata": {},
     "output_type": "execute_result"
    }
   ],
   "source": [
    "weights = B / B.sum(1, keepdim=True)\n",
    "weights"
   ]
  },
  {
   "cell_type": "code",
   "execution_count": 8,
   "id": "c256bf51-5556-4fbf-a59e-7f1b99658c01",
   "metadata": {
    "tags": []
   },
   "outputs": [
    {
     "data": {
      "text/plain": [
       "torch.Size([4, 8, 2])"
      ]
     },
     "execution_count": 8,
     "metadata": {},
     "output_type": "execute_result"
    }
   ],
   "source": [
    "C = torch.randn(4, 8, 2)\n",
    "D = weights @ C\n",
    "D.shape"
   ]
  },
  {
   "cell_type": "markdown",
   "id": "e6993052-f339-4f63-a66f-9a677dce2f71",
   "metadata": {},
   "source": [
    "# Beginning of self-attention"
   ]
  },
  {
   "cell_type": "markdown",
   "id": "eee9cd64-a885-422a-acd4-7963c537216c",
   "metadata": {},
   "source": [
    "In practice, we don't want a simple average, we want a weighted average and we want to learn the weights. That's why you can rewrite this weighting matrix using a masked_fill and Softmax"
   ]
  },
  {
   "cell_type": "code",
   "execution_count": 4,
   "id": "00e9e4da-014c-4245-a8e3-6857d2438e01",
   "metadata": {
    "tags": []
   },
   "outputs": [
    {
     "data": {
      "text/plain": [
       "tensor([[1., 0., 0., 0., 0., 0., 0., 0.],\n",
       "        [1., 1., 0., 0., 0., 0., 0., 0.],\n",
       "        [1., 1., 1., 0., 0., 0., 0., 0.],\n",
       "        [1., 1., 1., 1., 0., 0., 0., 0.],\n",
       "        [1., 1., 1., 1., 1., 0., 0., 0.],\n",
       "        [1., 1., 1., 1., 1., 1., 0., 0.],\n",
       "        [1., 1., 1., 1., 1., 1., 1., 0.],\n",
       "        [1., 1., 1., 1., 1., 1., 1., 1.]])"
      ]
     },
     "execution_count": 4,
     "metadata": {},
     "output_type": "execute_result"
    }
   ],
   "source": [
    "mask = torch.tril(torch.ones(8, 8))\n",
    "mask"
   ]
  },
  {
   "cell_type": "code",
   "execution_count": 5,
   "id": "5e3ff1a3-b76f-4bee-995f-6927f56f3423",
   "metadata": {
    "tags": []
   },
   "outputs": [
    {
     "data": {
      "text/plain": [
       "tensor([[0., -inf, -inf, -inf, -inf, -inf, -inf, -inf],\n",
       "        [0., 0., -inf, -inf, -inf, -inf, -inf, -inf],\n",
       "        [0., 0., 0., -inf, -inf, -inf, -inf, -inf],\n",
       "        [0., 0., 0., 0., -inf, -inf, -inf, -inf],\n",
       "        [0., 0., 0., 0., 0., -inf, -inf, -inf],\n",
       "        [0., 0., 0., 0., 0., 0., -inf, -inf],\n",
       "        [0., 0., 0., 0., 0., 0., 0., -inf],\n",
       "        [0., 0., 0., 0., 0., 0., 0., 0.]])"
      ]
     },
     "execution_count": 5,
     "metadata": {},
     "output_type": "execute_result"
    }
   ],
   "source": [
    "weights = torch.zeros(8, 8)\n",
    "weights.masked_fill_(mask==0, float(\"-inf\"))\n",
    "weights"
   ]
  },
  {
   "cell_type": "code",
   "execution_count": 11,
   "id": "336a1c29-05e4-4ee0-b83f-23273ecc6cbe",
   "metadata": {
    "tags": []
   },
   "outputs": [
    {
     "data": {
      "text/plain": [
       "tensor([[1.0000, 0.0000, 0.0000, 0.0000, 0.0000, 0.0000, 0.0000, 0.0000],\n",
       "        [0.5000, 0.5000, 0.0000, 0.0000, 0.0000, 0.0000, 0.0000, 0.0000],\n",
       "        [0.3333, 0.3333, 0.3333, 0.0000, 0.0000, 0.0000, 0.0000, 0.0000],\n",
       "        [0.2500, 0.2500, 0.2500, 0.2500, 0.0000, 0.0000, 0.0000, 0.0000],\n",
       "        [0.2000, 0.2000, 0.2000, 0.2000, 0.2000, 0.0000, 0.0000, 0.0000],\n",
       "        [0.1667, 0.1667, 0.1667, 0.1667, 0.1667, 0.1667, 0.0000, 0.0000],\n",
       "        [0.1429, 0.1429, 0.1429, 0.1429, 0.1429, 0.1429, 0.1429, 0.0000],\n",
       "        [0.1250, 0.1250, 0.1250, 0.1250, 0.1250, 0.1250, 0.1250, 0.1250]])"
      ]
     },
     "execution_count": 11,
     "metadata": {},
     "output_type": "execute_result"
    }
   ],
   "source": [
    "functional.softmax(weights, dim=-1) # softmax along the last dimension"
   ]
  },
  {
   "cell_type": "markdown",
   "id": "80ff6e30-e298-4ad2-b332-4ac330cf9cef",
   "metadata": {},
   "source": [
    "## Example with non-constant initial weights"
   ]
  },
  {
   "cell_type": "code",
   "execution_count": 12,
   "id": "e667c97d-d75a-4a85-90e9-815e81b8fef4",
   "metadata": {
    "tags": []
   },
   "outputs": [
    {
     "data": {
      "text/plain": [
       "tensor([[-0.6851,    -inf,    -inf,    -inf,    -inf,    -inf,    -inf,    -inf],\n",
       "        [-0.5143,  1.5780,    -inf,    -inf,    -inf,    -inf,    -inf,    -inf],\n",
       "        [ 0.1154,  1.4088,  1.1345,    -inf,    -inf,    -inf,    -inf,    -inf],\n",
       "        [ 0.2455,  0.0146,  0.7242,  1.5113,    -inf,    -inf,    -inf,    -inf],\n",
       "        [ 0.0629, -0.4085, -1.8356,  1.8961, -0.4704,    -inf,    -inf,    -inf],\n",
       "        [ 0.1704,  0.2344, -1.1358, -1.4638, -0.6538,  1.9615,    -inf,    -inf],\n",
       "        [ 0.7947, -0.3530,  0.2352,  0.9171, -0.4502, -0.8813,  1.2977,    -inf],\n",
       "        [ 1.0420,  2.1455,  0.3926,  1.0247, -1.7611,  0.9412, -0.8895,  0.9052]])"
      ]
     },
     "execution_count": 12,
     "metadata": {},
     "output_type": "execute_result"
    }
   ],
   "source": [
    "weights = torch.randn(8, 8)\n",
    "weights.masked_fill_(mask==0, float(\"-inf\"))\n",
    "weights"
   ]
  },
  {
   "cell_type": "code",
   "execution_count": 13,
   "id": "c4c012dd-d53c-402c-8cc3-c9b2af8d829c",
   "metadata": {
    "tags": []
   },
   "outputs": [
    {
     "data": {
      "text/plain": [
       "tensor([[1.0000, 0.0000, 0.0000, 0.0000, 0.0000, 0.0000, 0.0000, 0.0000],\n",
       "        [0.1098, 0.8902, 0.0000, 0.0000, 0.0000, 0.0000, 0.0000, 0.0000],\n",
       "        [0.1348, 0.4915, 0.3736, 0.0000, 0.0000, 0.0000, 0.0000, 0.0000],\n",
       "        [0.1438, 0.1142, 0.2321, 0.5099, 0.0000, 0.0000, 0.0000, 0.0000],\n",
       "        [0.1161, 0.0724, 0.0174, 0.7260, 0.0681, 0.0000, 0.0000, 0.0000],\n",
       "        [0.1115, 0.1189, 0.0302, 0.0218, 0.0489, 0.6687, 0.0000, 0.0000],\n",
       "        [0.1943, 0.0616, 0.1110, 0.2195, 0.0559, 0.0364, 0.3212, 0.0000],\n",
       "        [0.1333, 0.4019, 0.0696, 0.1310, 0.0081, 0.1205, 0.0193, 0.1163]])"
      ]
     },
     "execution_count": 13,
     "metadata": {},
     "output_type": "execute_result"
    }
   ],
   "source": [
    "functional.softmax(weights, dim=-1)"
   ]
  },
  {
   "cell_type": "code",
   "execution_count": 14,
   "id": "88841c38-dceb-4ffc-83b3-c19639f32529",
   "metadata": {
    "tags": []
   },
   "outputs": [
    {
     "data": {
      "text/plain": [
       "tensor([[1.0000],\n",
       "        [1.0000],\n",
       "        [1.0000],\n",
       "        [1.0000],\n",
       "        [1.0000],\n",
       "        [1.0000],\n",
       "        [1.0000],\n",
       "        [1.0000]])"
      ]
     },
     "execution_count": 14,
     "metadata": {},
     "output_type": "execute_result"
    }
   ],
   "source": [
    "functional.softmax(weights, dim=-1).sum(dim=-1, keepdim=True)"
   ]
  },
  {
   "cell_type": "markdown",
   "id": "1e3bddd4-836b-4d88-97f7-3bcbeece0520",
   "metadata": {
    "tags": []
   },
   "source": [
    "# Self Attention"
   ]
  },
  {
   "cell_type": "code",
   "execution_count": 3,
   "id": "74eb7b9b-b68a-40da-901b-d44b59320a5f",
   "metadata": {
    "tags": []
   },
   "outputs": [],
   "source": [
    "self_attention = ScaledDotProductSelfAttentionHead(512, 64, 12)"
   ]
  },
  {
   "cell_type": "code",
   "execution_count": 4,
   "id": "ac24c628-0aef-41be-8ae0-ea73b254be98",
   "metadata": {
    "tags": []
   },
   "outputs": [
    {
     "data": {
      "text/plain": [
       "tensor([[1., 0., 0., 0., 0., 0., 0., 0., 0., 0., 0., 0.],\n",
       "        [1., 1., 0., 0., 0., 0., 0., 0., 0., 0., 0., 0.],\n",
       "        [1., 1., 1., 0., 0., 0., 0., 0., 0., 0., 0., 0.],\n",
       "        [1., 1., 1., 1., 0., 0., 0., 0., 0., 0., 0., 0.],\n",
       "        [1., 1., 1., 1., 1., 0., 0., 0., 0., 0., 0., 0.],\n",
       "        [1., 1., 1., 1., 1., 1., 0., 0., 0., 0., 0., 0.],\n",
       "        [1., 1., 1., 1., 1., 1., 1., 0., 0., 0., 0., 0.],\n",
       "        [1., 1., 1., 1., 1., 1., 1., 1., 0., 0., 0., 0.],\n",
       "        [1., 1., 1., 1., 1., 1., 1., 1., 1., 0., 0., 0.],\n",
       "        [1., 1., 1., 1., 1., 1., 1., 1., 1., 1., 0., 0.],\n",
       "        [1., 1., 1., 1., 1., 1., 1., 1., 1., 1., 1., 0.],\n",
       "        [1., 1., 1., 1., 1., 1., 1., 1., 1., 1., 1., 1.]])"
      ]
     },
     "execution_count": 4,
     "metadata": {},
     "output_type": "execute_result"
    }
   ],
   "source": [
    "self_attention.mask"
   ]
  },
  {
   "cell_type": "code",
   "execution_count": 12,
   "id": "98b7c674-bd31-4389-adde-b2b7af29a8c3",
   "metadata": {
    "tags": []
   },
   "outputs": [
    {
     "data": {
      "text/plain": [
       "torch.Size([32, 12, 64])"
      ]
     },
     "execution_count": 12,
     "metadata": {},
     "output_type": "execute_result"
    }
   ],
   "source": [
    "x = torch.randn(32, 12, 512)\n",
    "self_attention(x).shape"
   ]
  },
  {
   "cell_type": "code",
   "execution_count": 13,
   "id": "f6aa4226-f83b-4a7d-821a-20aecb9fa4d1",
   "metadata": {
    "tags": []
   },
   "outputs": [
    {
     "data": {
      "text/plain": [
       "torch.Size([32, 8, 64])"
      ]
     },
     "execution_count": 13,
     "metadata": {},
     "output_type": "execute_result"
    }
   ],
   "source": [
    "x = torch.randn(32, 8, 512)\n",
    "self_attention(x).shape"
   ]
  },
  {
   "cell_type": "code",
   "execution_count": 34,
   "id": "3e879274-b07b-4c9e-84af-1a8fc06c3b88",
   "metadata": {
    "tags": []
   },
   "outputs": [],
   "source": [
    "drop = nn.Dropout(0.2)"
   ]
  },
  {
   "cell_type": "code",
   "execution_count": 35,
   "id": "f10431e3-5e5e-49ad-9b72-3b02a97e67ef",
   "metadata": {
    "tags": []
   },
   "outputs": [
    {
     "data": {
      "text/plain": [
       "(torch.Size([32, 8, 512]), torch.Size([32, 8, 512]))"
      ]
     },
     "execution_count": 35,
     "metadata": {},
     "output_type": "execute_result"
    }
   ],
   "source": [
    "drop(x).shape, x.shape"
   ]
  },
  {
   "cell_type": "code",
   "execution_count": 36,
   "id": "e05039c1-976f-4812-b35f-b8ce28393066",
   "metadata": {
    "tags": []
   },
   "outputs": [
    {
     "data": {
      "text/plain": [
       "tensor(-0.2500)"
      ]
     },
     "execution_count": 36,
     "metadata": {},
     "output_type": "execute_result"
    }
   ],
   "source": [
    "((x - drop(x))/x).min()"
   ]
  },
  {
   "cell_type": "code",
   "execution_count": 40,
   "id": "6a3c3e8b-3051-4a2a-b2b6-da3e659e733c",
   "metadata": {
    "tags": []
   },
   "outputs": [
    {
     "data": {
      "text/plain": [
       "tensor(-0.2632)"
      ]
     },
     "execution_count": 40,
     "metadata": {},
     "output_type": "execute_result"
    }
   ],
   "source": [
    "x[0,0,0]"
   ]
  },
  {
   "cell_type": "code",
   "execution_count": 41,
   "id": "35fbcdf5-ada5-42ca-b8c6-c8f9a6fa5a00",
   "metadata": {
    "tags": []
   },
   "outputs": [
    {
     "data": {
      "text/plain": [
       "tensor(-0.3290)"
      ]
     },
     "execution_count": 41,
     "metadata": {},
     "output_type": "execute_result"
    }
   ],
   "source": [
    "drop(x)[0,0,0]"
   ]
  },
  {
   "cell_type": "code",
   "execution_count": null,
   "id": "79e2ee20-04b0-43cd-82f9-87f7f4354623",
   "metadata": {},
   "outputs": [],
   "source": []
  }
 ],
 "metadata": {
  "kernelspec": {
   "display_name": "Python 3 (ipykernel)",
   "language": "python",
   "name": "python3"
  },
  "language_info": {
   "codemirror_mode": {
    "name": "ipython",
    "version": 3
   },
   "file_extension": ".py",
   "mimetype": "text/x-python",
   "name": "python",
   "nbconvert_exporter": "python",
   "pygments_lexer": "ipython3",
   "version": "3.10.8"
  }
 },
 "nbformat": 4,
 "nbformat_minor": 5
}
