{
 "cells": [
  {
   "cell_type": "code",
   "execution_count": 1,
   "id": "bf7ff2fa",
   "metadata": {},
   "outputs": [
    {
     "data": {
      "text/plain": [
       "['../',\n",
       " '/workspaces/lets_build_gpt_video/experiments',\n",
       " '/opt/conda/lib/python310.zip',\n",
       " '/opt/conda/lib/python3.10',\n",
       " '/opt/conda/lib/python3.10/lib-dynload',\n",
       " '',\n",
       " '/opt/conda/lib/python3.10/site-packages',\n",
       " '/opt/conda/lib/python3.10/site-packages/PyYAML-6.0-py3.10-linux-x86_64.egg']"
      ]
     },
     "execution_count": 1,
     "metadata": {},
     "output_type": "execute_result"
    }
   ],
   "source": [
    "import sys\n",
    "sys.path.insert(0, \"../\")\n",
    "sys.path"
   ]
  },
  {
   "cell_type": "code",
   "execution_count": 2,
   "id": "42ec13cf",
   "metadata": {},
   "outputs": [
    {
     "name": "stderr",
     "output_type": "stream",
     "text": [
      "/opt/conda/lib/python3.10/site-packages/tqdm/auto.py:22: TqdmWarning: IProgress not found. Please update jupyter and ipywidgets. See https://ipywidgets.readthedocs.io/en/stable/user_install.html\n",
      "  from .autonotebook import tqdm as notebook_tqdm\n"
     ]
    }
   ],
   "source": [
    "import torch\n",
    "from torch.nn import functional\n",
    "\n",
    "from src.text_processor import TextProcessor\n",
    "from src.bigram import BiGram"
   ]
  },
  {
   "cell_type": "code",
   "execution_count": 3,
   "id": "8f4569d3",
   "metadata": {},
   "outputs": [],
   "source": [
    "mytext = TextProcessor(\"shakespeare.txt\")"
   ]
  },
  {
   "cell_type": "code",
   "execution_count": 4,
   "id": "f0a955f6",
   "metadata": {},
   "outputs": [],
   "source": [
    "model = BiGram(vocab_size=mytext.vocab_size)"
   ]
  },
  {
   "cell_type": "markdown",
   "id": "387c25b2",
   "metadata": {},
   "source": [
    "# Text"
   ]
  },
  {
   "cell_type": "code",
   "execution_count": 4,
   "id": "c9dc2db1",
   "metadata": {},
   "outputs": [
    {
     "data": {
      "text/plain": [
       "65"
      ]
     },
     "execution_count": 4,
     "metadata": {},
     "output_type": "execute_result"
    }
   ],
   "source": [
    "mytext.vocab_size"
   ]
  },
  {
   "cell_type": "code",
   "execution_count": 5,
   "id": "469c14fb",
   "metadata": {
    "scrolled": true
   },
   "outputs": [
    {
     "data": {
      "text/plain": [
       "['\\n',\n",
       " ' ',\n",
       " '!',\n",
       " '$',\n",
       " '&',\n",
       " \"'\",\n",
       " ',',\n",
       " '-',\n",
       " '.',\n",
       " '3',\n",
       " ':',\n",
       " ';',\n",
       " '?',\n",
       " 'A',\n",
       " 'B',\n",
       " 'C',\n",
       " 'D',\n",
       " 'E',\n",
       " 'F',\n",
       " 'G',\n",
       " 'H',\n",
       " 'I',\n",
       " 'J',\n",
       " 'K',\n",
       " 'L',\n",
       " 'M',\n",
       " 'N',\n",
       " 'O',\n",
       " 'P',\n",
       " 'Q',\n",
       " 'R',\n",
       " 'S',\n",
       " 'T',\n",
       " 'U',\n",
       " 'V',\n",
       " 'W',\n",
       " 'X',\n",
       " 'Y',\n",
       " 'Z',\n",
       " 'a',\n",
       " 'b',\n",
       " 'c',\n",
       " 'd',\n",
       " 'e',\n",
       " 'f',\n",
       " 'g',\n",
       " 'h',\n",
       " 'i',\n",
       " 'j',\n",
       " 'k',\n",
       " 'l',\n",
       " 'm',\n",
       " 'n',\n",
       " 'o',\n",
       " 'p',\n",
       " 'q',\n",
       " 'r',\n",
       " 's',\n",
       " 't',\n",
       " 'u',\n",
       " 'v',\n",
       " 'w',\n",
       " 'x',\n",
       " 'y',\n",
       " 'z']"
      ]
     },
     "execution_count": 5,
     "metadata": {},
     "output_type": "execute_result"
    }
   ],
   "source": [
    "mytext.all_chars"
   ]
  },
  {
   "cell_type": "code",
   "execution_count": 6,
   "id": "e272950b",
   "metadata": {},
   "outputs": [
    {
     "data": {
      "text/plain": [
       "[46, 43, 50, 50, 53, 3]"
      ]
     },
     "execution_count": 6,
     "metadata": {},
     "output_type": "execute_result"
    }
   ],
   "source": [
    "mytext.convert_string2integer(\"hello$\")"
   ]
  },
  {
   "cell_type": "code",
   "execution_count": 7,
   "id": "41628c78",
   "metadata": {},
   "outputs": [
    {
     "data": {
      "text/plain": [
       "'?eI\\np'"
      ]
     },
     "execution_count": 7,
     "metadata": {},
     "output_type": "execute_result"
    }
   ],
   "source": [
    "mytext.convert_integer2string([12,43,21,0,54])"
   ]
  },
  {
   "cell_type": "code",
   "execution_count": null,
   "id": "ac1bdbe4",
   "metadata": {},
   "outputs": [],
   "source": [
    "mytext.text"
   ]
  },
  {
   "cell_type": "code",
   "execution_count": 17,
   "id": "2c198456",
   "metadata": {},
   "outputs": [
    {
     "data": {
      "text/plain": [
       "tensor([18, 47, 56,  ..., 45,  8,  0])"
      ]
     },
     "execution_count": 17,
     "metadata": {},
     "output_type": "execute_result"
    }
   ],
   "source": [
    "mytext.data"
   ]
  },
  {
   "cell_type": "code",
   "execution_count": 18,
   "id": "99e805f1",
   "metadata": {},
   "outputs": [
    {
     "data": {
      "text/plain": [
       "1115394"
      ]
     },
     "execution_count": 18,
     "metadata": {},
     "output_type": "execute_result"
    }
   ],
   "source": [
    "len(mytext.data)"
   ]
  },
  {
   "cell_type": "code",
   "execution_count": 19,
   "id": "692a9bc4",
   "metadata": {},
   "outputs": [
    {
     "data": {
      "text/plain": [
       "tensor([12,  0,  0,  ..., 45,  8,  0])"
      ]
     },
     "execution_count": 19,
     "metadata": {},
     "output_type": "execute_result"
    }
   ],
   "source": [
    "mytext.data_val"
   ]
  },
  {
   "cell_type": "code",
   "execution_count": 20,
   "id": "b969f55e",
   "metadata": {},
   "outputs": [
    {
     "name": "stdout",
     "output_type": "stream",
     "text": [
      "torch.Size([1, 1]) torch.Size([1, 1])\n"
     ]
    }
   ],
   "source": [
    "x, y = mytext.get_batch(batch_size=1, block_size=1)\n",
    "print(x.shape, y.shape)"
   ]
  },
  {
   "cell_type": "code",
   "execution_count": 21,
   "id": "beac8662",
   "metadata": {},
   "outputs": [
    {
     "name": "stdout",
     "output_type": "stream",
     "text": [
      "0\n",
      "2\n",
      "4\n",
      "6\n",
      "8\n"
     ]
    }
   ],
   "source": [
    "for ii in range(0, 10, 2):\n",
    "    print(ii)"
   ]
  },
  {
   "cell_type": "code",
   "execution_count": 22,
   "id": "a7507948",
   "metadata": {},
   "outputs": [
    {
     "data": {
      "text/plain": [
       "1003854"
      ]
     },
     "execution_count": 22,
     "metadata": {},
     "output_type": "execute_result"
    }
   ],
   "source": [
    "len(mytext.data_train)"
   ]
  },
  {
   "cell_type": "code",
   "execution_count": 23,
   "id": "c57f4617",
   "metadata": {},
   "outputs": [
    {
     "data": {
      "text/plain": [
       "tensor([64, 43, 52, 10,  0])"
      ]
     },
     "execution_count": 23,
     "metadata": {},
     "output_type": "execute_result"
    }
   ],
   "source": [
    "mytext.data_train[10:15]"
   ]
  },
  {
   "cell_type": "markdown",
   "id": "33abb487",
   "metadata": {},
   "source": [
    "# Bigram model"
   ]
  },
  {
   "cell_type": "code",
   "execution_count": 25,
   "id": "c9e4fbe6",
   "metadata": {},
   "outputs": [
    {
     "data": {
      "text/plain": [
       "tensor(3.4730, grad_fn=<NllLossBackward0>)"
      ]
     },
     "execution_count": 25,
     "metadata": {},
     "output_type": "execute_result"
    }
   ],
   "source": [
    "model.loss(model(x), y)"
   ]
  },
  {
   "cell_type": "code",
   "execution_count": 33,
   "id": "f96d5656",
   "metadata": {},
   "outputs": [
    {
     "data": {
      "text/plain": [
       "tensor([[3.4730]], grad_fn=<NegBackward0>)"
      ]
     },
     "execution_count": 33,
     "metadata": {},
     "output_type": "execute_result"
    }
   ],
   "source": [
    "# Verify loss in the case batch_size=1, block_size=1\n",
    "-(model(x).exp()/model(x).exp().sum())[0, 0, y].log()"
   ]
  },
  {
   "cell_type": "code",
   "execution_count": 5,
   "id": "120e0a6b",
   "metadata": {},
   "outputs": [
    {
     "name": "stdout",
     "output_type": "stream",
     "text": [
      "Epoch 0: train_loss = 142387.22477912903, eval_loss = 15782.818266153336\n",
      "Epoch 100: train_loss = 113058.80290579796, eval_loss = 12558.0528216362\n",
      "Epoch 200: train_loss = 96050.4090487957, eval_loss = 10684.946963310242\n",
      "Epoch 300: train_loss = 87309.90303468704, eval_loss = 9732.457034111023\n",
      "Epoch 400: train_loss = 83017.79263114929, eval_loss = 9263.11970114708\n",
      "Epoch 500: train_loss = 80862.39229035378, eval_loss = 9042.427107691765\n",
      "Epoch 600: train_loss = 79730.67677867413, eval_loss = 8924.10172855854\n",
      "Epoch 700: train_loss = 79054.6739127636, eval_loss = 8860.580738782883\n",
      "Epoch 800: train_loss = 78612.35302078724, eval_loss = 8811.885377883911\n",
      "Epoch 900: train_loss = 78316.17607986927, eval_loss = 8782.898253917694\n",
      "Epoch 1000: train_loss = 78114.66695129871, eval_loss = 8756.861783862114\n",
      "Epoch 1100: train_loss = 77940.47797167301, eval_loss = 8738.118736982346\n",
      "Epoch 1200: train_loss = 77824.57201373577, eval_loss = 8730.429413795471\n",
      "Epoch 1300: train_loss = 77720.21132791042, eval_loss = 8718.83181810379\n",
      "Epoch 1400: train_loss = 77647.47207784653, eval_loss = 8716.283147573471\n",
      "Epoch 1500: train_loss = 77588.05184519291, eval_loss = 8705.315081357956\n",
      "Epoch 1600: train_loss = 77524.66256570816, eval_loss = 8699.253422379494\n",
      "Epoch 1700: train_loss = 77491.8112590313, eval_loss = 8700.858268022537\n",
      "Epoch 1800: train_loss = 77440.62251710892, eval_loss = 8698.11311519146\n",
      "Epoch 1900: train_loss = 77404.61367225647, eval_loss = 8689.137098312378\n",
      "Epoch 2000: train_loss = 77380.30706977844, eval_loss = 8678.742863416672\n",
      "Epoch 2100: train_loss = 77378.75090944767, eval_loss = 8685.048921108246\n",
      "Epoch 2200: train_loss = 77342.61016213894, eval_loss = 8679.695092082024\n",
      "Epoch 2300: train_loss = 77316.93263483047, eval_loss = 8674.296903729439\n",
      "Epoch 2400: train_loss = 77302.58368968964, eval_loss = 8673.752169966698\n",
      "Epoch 2500: train_loss = 77289.51398205757, eval_loss = 8670.708206295967\n",
      "Epoch 2600: train_loss = 77263.82414889336, eval_loss = 8672.590337395668\n",
      "Epoch 2700: train_loss = 77265.52817714214, eval_loss = 8677.756422519684\n",
      "Epoch 2800: train_loss = 77250.16952764988, eval_loss = 8680.382083892822\n",
      "Epoch 2900: train_loss = 77222.79128932953, eval_loss = 8671.704012870789\n",
      "Epoch 3000: train_loss = 77227.83336019516, eval_loss = 8680.734726428986\n",
      "Epoch 3100: train_loss = 77220.90999996662, eval_loss = 8676.24992108345\n",
      "Epoch 3200: train_loss = 77198.93697941303, eval_loss = 8676.450708508492\n",
      "Epoch 3300: train_loss = 77183.16876995564, eval_loss = 8678.795173406601\n",
      "Epoch 3400: train_loss = 77181.70784080029, eval_loss = 8680.116976261139\n",
      "Epoch 3500: train_loss = 77174.00403642654, eval_loss = 8674.97106897831\n",
      "Epoch 3600: train_loss = 77168.38786971569, eval_loss = 8669.660101294518\n",
      "Epoch 3700: train_loss = 77157.95210039616, eval_loss = 8666.5009547472\n",
      "Epoch 3800: train_loss = 77161.68143856525, eval_loss = 8670.373680353165\n",
      "Epoch 3900: train_loss = 77146.62316906452, eval_loss = 8674.09487748146\n",
      "Epoch 4000: train_loss = 77139.48232090473, eval_loss = 8674.510788440704\n",
      "Epoch 4100: train_loss = 77140.15734624863, eval_loss = 8672.965601801872\n",
      "Epoch 4200: train_loss = 77147.81437122822, eval_loss = 8676.401578783989\n",
      "Epoch 4300: train_loss = 77136.9534919262, eval_loss = 8676.523714542389\n",
      "Epoch 4400: train_loss = 77142.9556607008, eval_loss = 8671.500014066696\n",
      "Epoch 4500: train_loss = 77125.89020264149, eval_loss = 8673.002630472183\n",
      "Epoch 4600: train_loss = 77136.16623198986, eval_loss = 8670.545838832855\n",
      "Epoch 4700: train_loss = 77126.67787396908, eval_loss = 8665.448674678802\n",
      "Epoch 4800: train_loss = 77118.64922845364, eval_loss = 8666.231038689613\n",
      "Epoch 4900: train_loss = 77113.0421102047, eval_loss = 8665.532039284706\n",
      "Epoch 5000: train_loss = 77114.85779941082, eval_loss = 8664.121584892273\n",
      "Epoch 5100: train_loss = 77101.59319710732, eval_loss = 8666.694818139076\n",
      "Epoch 5200: train_loss = 77111.63972318172, eval_loss = 8666.220159769058\n",
      "Epoch 5300: train_loss = 77090.40355741978, eval_loss = 8662.110222816467\n",
      "Epoch 5400: train_loss = 77085.9795242548, eval_loss = 8658.458381652832\n",
      "Epoch 5500: train_loss = 77086.86566460133, eval_loss = 8666.054855942726\n",
      "Epoch 5600: train_loss = 77096.02763605118, eval_loss = 8665.055169224739\n",
      "Epoch 5700: train_loss = 77088.97441887856, eval_loss = 8660.594532728195\n",
      "Epoch 5800: train_loss = 77092.95205914974, eval_loss = 8663.248820066452\n",
      "Epoch 5900: train_loss = 77081.81858241558, eval_loss = 8661.883696556091\n",
      "Epoch 6000: train_loss = 77074.41079878807, eval_loss = 8661.913032531738\n",
      "Epoch 6100: train_loss = 77087.88282394409, eval_loss = 8655.200666308403\n",
      "Epoch 6200: train_loss = 77077.37060368061, eval_loss = 8661.549814462662\n",
      "Epoch 6300: train_loss = 77070.93618452549, eval_loss = 8661.620986938477\n",
      "Epoch 6400: train_loss = 77080.7965760231, eval_loss = 8670.383128523827\n",
      "Epoch 6500: train_loss = 77071.58130252361, eval_loss = 8679.462572932243\n",
      "Epoch 6600: train_loss = 77067.68427944183, eval_loss = 8671.60579252243\n",
      "Epoch 6700: train_loss = 77080.82074856758, eval_loss = 8679.26431632042\n",
      "Epoch 6800: train_loss = 77072.93755090237, eval_loss = 8672.450685858727\n",
      "Epoch 6900: train_loss = 77060.46161532402, eval_loss = 8673.442784786224\n",
      "Epoch 7000: train_loss = 77061.59292197227, eval_loss = 8679.679735898972\n",
      "Epoch 7100: train_loss = 77066.44260883331, eval_loss = 8683.116228818893\n",
      "Epoch 7200: train_loss = 77048.05994439125, eval_loss = 8677.903682470322\n",
      "Epoch 7300: train_loss = 77064.11460232735, eval_loss = 8675.735600948334\n",
      "Epoch 7400: train_loss = 77050.05079638958, eval_loss = 8666.826454877853\n",
      "Epoch 7500: train_loss = 77056.04677402973, eval_loss = 8666.118312239647\n",
      "Epoch 7600: train_loss = 77056.26414597034, eval_loss = 8664.513771176338\n",
      "Epoch 7700: train_loss = 77052.509603858, eval_loss = 8669.572872757912\n",
      "Epoch 7800: train_loss = 77064.17480838299, eval_loss = 8670.307598352432\n",
      "Epoch 7900: train_loss = 77049.32635366917, eval_loss = 8668.906866073608\n",
      "Epoch 8000: train_loss = 77060.82350635529, eval_loss = 8668.811180353165\n",
      "Epoch 8100: train_loss = 77063.41158676147, eval_loss = 8673.413102030754\n",
      "Epoch 8200: train_loss = 77075.39649701118, eval_loss = 8674.531706213951\n",
      "Epoch 8300: train_loss = 77066.94201183319, eval_loss = 8670.572610139847\n",
      "Epoch 8400: train_loss = 77057.43124377728, eval_loss = 8681.234657049179\n",
      "Epoch 8500: train_loss = 77062.40616166592, eval_loss = 8676.631540894508\n",
      "Epoch 8600: train_loss = 77047.4578756094, eval_loss = 8674.017801880836\n",
      "Epoch 8700: train_loss = 77031.83769011497, eval_loss = 8669.308195590973\n",
      "Epoch 8800: train_loss = 77032.87106776237, eval_loss = 8671.966876149178\n",
      "Epoch 8900: train_loss = 77053.81320333481, eval_loss = 8671.112997174263\n",
      "Epoch 9000: train_loss = 77061.86851727962, eval_loss = 8671.804173111916\n",
      "Epoch 9100: train_loss = 77045.22728395462, eval_loss = 8672.253432869911\n",
      "Epoch 9200: train_loss = 77050.02077269554, eval_loss = 8671.15254843235\n",
      "Epoch 9300: train_loss = 77058.11485302448, eval_loss = 8673.226259589195\n",
      "Epoch 9400: train_loss = 77054.39794361591, eval_loss = 8669.618482708931\n",
      "Epoch 9500: train_loss = 77058.49209368229, eval_loss = 8668.619338870049\n",
      "Epoch 9600: train_loss = 77063.24224591255, eval_loss = 8673.502473592758\n",
      "Epoch 9700: train_loss = 77051.87179875374, eval_loss = 8677.8014523983\n",
      "Epoch 9800: train_loss = 77047.61857438087, eval_loss = 8675.59745824337\n",
      "Epoch 9900: train_loss = 77046.75965178013, eval_loss = 8671.481845855713\n"
     ]
    }
   ],
   "source": [
    "model.train(\n",
    "    text=mytext,\n",
    "    nb_epochs=10000,\n",
    "    batch_size=32,\n",
    "    block_size=8,\n",
    "    learning_rate=1e-2,\n",
    "    eval_interval = 100,\n",
    ")"
   ]
  },
  {
   "cell_type": "code",
   "execution_count": 6,
   "id": "e3af88d0",
   "metadata": {},
   "outputs": [
    {
     "name": "stderr",
     "output_type": "stream",
     "text": [
      "/workspaces/lets_build_gpt_video/experiments/../src/bigram.py:27: UserWarning: Implicit dimension choice for softmax has been deprecated. Change the call to include dim=X as an argument.\n",
      "  probs = functional.softmax(logits)\n"
     ]
    },
    {
     "data": {
      "text/plain": [
       "tensor([18])"
      ]
     },
     "execution_count": 6,
     "metadata": {},
     "output_type": "execute_result"
    }
   ],
   "source": [
    "model.inference(torch.tensor([0]))"
   ]
  },
  {
   "cell_type": "code",
   "execution_count": 10,
   "id": "32f4bd45",
   "metadata": {},
   "outputs": [
    {
     "name": "stdout",
     "output_type": "stream",
     "text": [
      "\n",
      "ARDWh y an: ir aurt, d s es ES: y,\n",
      "pitharapalloul INE: Wh fof mils sttar: blalackicher thivexpth s avan tr I o wen athare\n",
      "\n",
      "A:\n",
      "By sld he rn.\n",
      "GUCEOfut th n.\n",
      "Cos jurrme urd.\n",
      "HEToven,\n",
      "DUCHein t whastr o,\n",
      "GESHERENou he falos\n",
      "Whay he, Su fath! when PEd:\n",
      "I's out honfrot brif a whesstis hirteid s Tht s, Bes thamagorouthonorter cef, matsu,\n",
      "\n",
      "Me f h shastyof tot,\n",
      "IV:\n",
      "Ofond t rghalle? f t tive ste llu o aicr tt ly, d Ay, towakist toy hinghee mesothet h wnol s Heaclerimerethistle suny,\n",
      "IZAnd inovestre, aly. the.\n",
      "\n",
      "Coueimosem:\n",
      "To IURUThatimyour, he is issemato hthoith.\n",
      "Whone grube\n",
      "cond t y VONENoo:\n",
      "Ask,\n",
      "Nodns hir, othe te onu cos y wh KELUENUS IUCHonoryovillearoufat!'llinom,\n",
      "\n",
      "TUCAur.\n",
      "AR:\n",
      "YO: se t Ancks; by ayomanl faket he's yon mam sheais,-g; w, t! w-n, ishaye.\n",
      "AROMyokitors whind h cer n at gr h tl.\n",
      "\n",
      "TENVI quewighaveaca IG OFachilioodusp S:\n",
      "TUCOUELAlld nch wo be dan, trde. t ghererabur ttowhid?\n",
      "A:\n",
      "RY asell!\n",
      "T: thepr; ceers l oss gord igan ee an s t ard ts o te angr anesieshilesthate s thlllat omu! d\n"
     ]
    }
   ],
   "source": [
    "print(mytext.convert_integer2string(model.generate(1000, idx=torch.tensor([0]))))"
   ]
  },
  {
   "cell_type": "code",
   "execution_count": null,
   "id": "75ded1ea",
   "metadata": {},
   "outputs": [],
   "source": []
  }
 ],
 "metadata": {
  "kernelspec": {
   "display_name": "Python 3 (ipykernel)",
   "language": "python",
   "name": "python3"
  },
  "language_info": {
   "codemirror_mode": {
    "name": "ipython",
    "version": 3
   },
   "file_extension": ".py",
   "mimetype": "text/x-python",
   "name": "python",
   "nbconvert_exporter": "python",
   "pygments_lexer": "ipython3",
   "version": "3.10.8"
  },
  "vscode": {
   "interpreter": {
    "hash": "d4d1e4263499bec80672ea0156c357c1ee493ec2b1c70f0acce89fc37c4a6abe"
   }
  }
 },
 "nbformat": 4,
 "nbformat_minor": 5
}
