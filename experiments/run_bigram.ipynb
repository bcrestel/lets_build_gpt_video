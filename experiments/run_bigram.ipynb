{
 "cells": [
  {
   "cell_type": "code",
   "execution_count": 1,
   "id": "bf7ff2fa",
   "metadata": {
    "tags": []
   },
   "outputs": [
    {
     "data": {
      "text/plain": [
       "['../',\n",
       " '/home/experiments',\n",
       " '/opt/conda/lib/python310.zip',\n",
       " '/opt/conda/lib/python3.10',\n",
       " '/opt/conda/lib/python3.10/lib-dynload',\n",
       " '',\n",
       " '/opt/conda/lib/python3.10/site-packages',\n",
       " '/opt/conda/lib/python3.10/site-packages/PyYAML-6.0-py3.10-linux-x86_64.egg']"
      ]
     },
     "execution_count": 1,
     "metadata": {},
     "output_type": "execute_result"
    }
   ],
   "source": [
    "import sys\n",
    "sys.path.insert(0, \"../\")\n",
    "sys.path"
   ]
  },
  {
   "cell_type": "code",
   "execution_count": 2,
   "id": "42ec13cf",
   "metadata": {
    "tags": []
   },
   "outputs": [],
   "source": [
    "import torch\n",
    "from torch.nn import functional\n",
    "\n",
    "from src.text_processor import TextProcessor\n",
    "from src.bigram import BiGram\n",
    "from src.utils.get_device import get_device"
   ]
  },
  {
   "cell_type": "code",
   "execution_count": 3,
   "id": "818dca6f-71fd-4eda-b3c8-355aba997427",
   "metadata": {
    "tags": []
   },
   "outputs": [
    {
     "data": {
      "text/plain": [
       "'cpu'"
      ]
     },
     "execution_count": 3,
     "metadata": {},
     "output_type": "execute_result"
    }
   ],
   "source": [
    "mydevice = get_device()\n",
    "mydevice"
   ]
  },
  {
   "cell_type": "code",
   "execution_count": 4,
   "id": "8f4569d3",
   "metadata": {
    "tags": []
   },
   "outputs": [],
   "source": [
    "mytext = TextProcessor(\"shakespeare.txt\")"
   ]
  },
  {
   "cell_type": "code",
   "execution_count": 6,
   "id": "f0a955f6",
   "metadata": {
    "tags": []
   },
   "outputs": [],
   "source": [
    "model = BiGram(vocab_size=mytext.vocab_size, dim_token_embedding=32)"
   ]
  },
  {
   "cell_type": "code",
   "execution_count": 7,
   "id": "8e8c5bdb-683e-454a-a328-db0352f092fb",
   "metadata": {
    "tags": []
   },
   "outputs": [
    {
     "data": {
      "text/plain": [
       "BiGram(\n",
       "  (embedding): Embedding(65, 32)\n",
       "  (map_token_embedding_to_token): Linear(in_features=32, out_features=65, bias=True)\n",
       ")"
      ]
     },
     "execution_count": 7,
     "metadata": {},
     "output_type": "execute_result"
    }
   ],
   "source": [
    "model.to(mydevice)"
   ]
  },
  {
   "cell_type": "markdown",
   "id": "387c25b2",
   "metadata": {},
   "source": [
    "# Text"
   ]
  },
  {
   "cell_type": "code",
   "execution_count": 4,
   "id": "c9dc2db1",
   "metadata": {},
   "outputs": [
    {
     "data": {
      "text/plain": [
       "65"
      ]
     },
     "execution_count": 4,
     "metadata": {},
     "output_type": "execute_result"
    }
   ],
   "source": [
    "mytext.vocab_size"
   ]
  },
  {
   "cell_type": "code",
   "execution_count": 5,
   "id": "469c14fb",
   "metadata": {
    "scrolled": true
   },
   "outputs": [
    {
     "data": {
      "text/plain": [
       "['\\n',\n",
       " ' ',\n",
       " '!',\n",
       " '$',\n",
       " '&',\n",
       " \"'\",\n",
       " ',',\n",
       " '-',\n",
       " '.',\n",
       " '3',\n",
       " ':',\n",
       " ';',\n",
       " '?',\n",
       " 'A',\n",
       " 'B',\n",
       " 'C',\n",
       " 'D',\n",
       " 'E',\n",
       " 'F',\n",
       " 'G',\n",
       " 'H',\n",
       " 'I',\n",
       " 'J',\n",
       " 'K',\n",
       " 'L',\n",
       " 'M',\n",
       " 'N',\n",
       " 'O',\n",
       " 'P',\n",
       " 'Q',\n",
       " 'R',\n",
       " 'S',\n",
       " 'T',\n",
       " 'U',\n",
       " 'V',\n",
       " 'W',\n",
       " 'X',\n",
       " 'Y',\n",
       " 'Z',\n",
       " 'a',\n",
       " 'b',\n",
       " 'c',\n",
       " 'd',\n",
       " 'e',\n",
       " 'f',\n",
       " 'g',\n",
       " 'h',\n",
       " 'i',\n",
       " 'j',\n",
       " 'k',\n",
       " 'l',\n",
       " 'm',\n",
       " 'n',\n",
       " 'o',\n",
       " 'p',\n",
       " 'q',\n",
       " 'r',\n",
       " 's',\n",
       " 't',\n",
       " 'u',\n",
       " 'v',\n",
       " 'w',\n",
       " 'x',\n",
       " 'y',\n",
       " 'z']"
      ]
     },
     "execution_count": 5,
     "metadata": {},
     "output_type": "execute_result"
    }
   ],
   "source": [
    "mytext.all_chars"
   ]
  },
  {
   "cell_type": "code",
   "execution_count": 6,
   "id": "e272950b",
   "metadata": {},
   "outputs": [
    {
     "data": {
      "text/plain": [
       "[46, 43, 50, 50, 53, 3]"
      ]
     },
     "execution_count": 6,
     "metadata": {},
     "output_type": "execute_result"
    }
   ],
   "source": [
    "mytext.convert_string2integer(\"hello$\")"
   ]
  },
  {
   "cell_type": "code",
   "execution_count": 7,
   "id": "41628c78",
   "metadata": {},
   "outputs": [
    {
     "data": {
      "text/plain": [
       "'?eI\\np'"
      ]
     },
     "execution_count": 7,
     "metadata": {},
     "output_type": "execute_result"
    }
   ],
   "source": [
    "mytext.convert_integer2string([12,43,21,0,54])"
   ]
  },
  {
   "cell_type": "code",
   "execution_count": null,
   "id": "ac1bdbe4",
   "metadata": {},
   "outputs": [],
   "source": [
    "mytext.text"
   ]
  },
  {
   "cell_type": "code",
   "execution_count": 17,
   "id": "2c198456",
   "metadata": {},
   "outputs": [
    {
     "data": {
      "text/plain": [
       "tensor([18, 47, 56,  ..., 45,  8,  0])"
      ]
     },
     "execution_count": 17,
     "metadata": {},
     "output_type": "execute_result"
    }
   ],
   "source": [
    "mytext.data"
   ]
  },
  {
   "cell_type": "code",
   "execution_count": 18,
   "id": "99e805f1",
   "metadata": {},
   "outputs": [
    {
     "data": {
      "text/plain": [
       "1115394"
      ]
     },
     "execution_count": 18,
     "metadata": {},
     "output_type": "execute_result"
    }
   ],
   "source": [
    "len(mytext.data)"
   ]
  },
  {
   "cell_type": "code",
   "execution_count": 19,
   "id": "692a9bc4",
   "metadata": {},
   "outputs": [
    {
     "data": {
      "text/plain": [
       "tensor([12,  0,  0,  ..., 45,  8,  0])"
      ]
     },
     "execution_count": 19,
     "metadata": {},
     "output_type": "execute_result"
    }
   ],
   "source": [
    "mytext.data_val"
   ]
  },
  {
   "cell_type": "code",
   "execution_count": 11,
   "id": "b969f55e",
   "metadata": {
    "tags": []
   },
   "outputs": [
    {
     "name": "stdout",
     "output_type": "stream",
     "text": [
      "torch.Size([1, 1]) torch.Size([1, 1])\n"
     ]
    }
   ],
   "source": [
    "x, y = mytext.get_batch(batch_size=1, block_size=1)\n",
    "print(x.shape, y.shape)"
   ]
  },
  {
   "cell_type": "code",
   "execution_count": 21,
   "id": "beac8662",
   "metadata": {},
   "outputs": [
    {
     "name": "stdout",
     "output_type": "stream",
     "text": [
      "0\n",
      "2\n",
      "4\n",
      "6\n",
      "8\n"
     ]
    }
   ],
   "source": [
    "for ii in range(0, 10, 2):\n",
    "    print(ii)"
   ]
  },
  {
   "cell_type": "code",
   "execution_count": 22,
   "id": "a7507948",
   "metadata": {},
   "outputs": [
    {
     "data": {
      "text/plain": [
       "1003854"
      ]
     },
     "execution_count": 22,
     "metadata": {},
     "output_type": "execute_result"
    }
   ],
   "source": [
    "len(mytext.data_train)"
   ]
  },
  {
   "cell_type": "code",
   "execution_count": 23,
   "id": "c57f4617",
   "metadata": {},
   "outputs": [
    {
     "data": {
      "text/plain": [
       "tensor([64, 43, 52, 10,  0])"
      ]
     },
     "execution_count": 23,
     "metadata": {},
     "output_type": "execute_result"
    }
   ],
   "source": [
    "mytext.data_train[10:15]"
   ]
  },
  {
   "cell_type": "markdown",
   "id": "33abb487",
   "metadata": {},
   "source": [
    "# Bigram model"
   ]
  },
  {
   "cell_type": "markdown",
   "id": "934bdbd9-4b95-43ca-90aa-049bdc89d9f2",
   "metadata": {},
   "source": [
    "## Verify loss in the case batch_size=1, block_size=1"
   ]
  },
  {
   "cell_type": "code",
   "execution_count": 8,
   "id": "a0ab8e28-b0e5-4389-b7b2-d8b3be2d284d",
   "metadata": {
    "tags": []
   },
   "outputs": [
    {
     "name": "stdout",
     "output_type": "stream",
     "text": [
      "torch.Size([1, 1]) torch.Size([1, 1])\n"
     ]
    }
   ],
   "source": [
    "x, y = mytext.get_batch(batch_size=1, block_size=1)\n",
    "print(x.shape, y.shape)"
   ]
  },
  {
   "cell_type": "code",
   "execution_count": 9,
   "id": "c9e4fbe6",
   "metadata": {
    "tags": []
   },
   "outputs": [
    {
     "data": {
      "text/plain": [
       "tensor(4.7501, grad_fn=<NllLossBackward0>)"
      ]
     },
     "execution_count": 9,
     "metadata": {},
     "output_type": "execute_result"
    }
   ],
   "source": [
    "model.loss(model(x), y)"
   ]
  },
  {
   "cell_type": "code",
   "execution_count": 10,
   "id": "f96d5656",
   "metadata": {
    "tags": []
   },
   "outputs": [
    {
     "data": {
      "text/plain": [
       "tensor([[4.7501]], grad_fn=<NegBackward0>)"
      ]
     },
     "execution_count": 10,
     "metadata": {},
     "output_type": "execute_result"
    }
   ],
   "source": [
    "-(model(x).exp()/model(x).exp().sum())[0, 0, y].log()"
   ]
  },
  {
   "cell_type": "markdown",
   "id": "fa0f273a-008c-4d5e-bd17-44fc10dd1edb",
   "metadata": {},
   "source": [
    "## Train model"
   ]
  },
  {
   "cell_type": "code",
   "execution_count": 12,
   "id": "120e0a6b",
   "metadata": {
    "tags": []
   },
   "outputs": [
    {
     "name": "stdout",
     "output_type": "stream",
     "text": [
      "Epoch 0: train_loss = 78469.14244246483, eval_loss = 8813.000763297081\n"
     ]
    }
   ],
   "source": [
    "model.train(\n",
    "    text=mytext,\n",
    "    nb_epochs=5, # 3000\n",
    "    batch_size=32,\n",
    "    block_size=8,\n",
    "    learning_rate=1e-2,\n",
    "    eval_interval = 100,\n",
    ")"
   ]
  },
  {
   "cell_type": "code",
   "execution_count": 6,
   "id": "e3af88d0",
   "metadata": {},
   "outputs": [
    {
     "name": "stderr",
     "output_type": "stream",
     "text": [
      "/workspaces/lets_build_gpt_video/experiments/../src/bigram.py:27: UserWarning: Implicit dimension choice for softmax has been deprecated. Change the call to include dim=X as an argument.\n",
      "  probs = functional.softmax(logits)\n"
     ]
    },
    {
     "data": {
      "text/plain": [
       "tensor([18])"
      ]
     },
     "execution_count": 6,
     "metadata": {},
     "output_type": "execute_result"
    }
   ],
   "source": [
    "model.inference(torch.tensor([0]))"
   ]
  },
  {
   "cell_type": "code",
   "execution_count": 10,
   "id": "32f4bd45",
   "metadata": {},
   "outputs": [
    {
     "name": "stdout",
     "output_type": "stream",
     "text": [
      "\n",
      "ARDWh y an: ir aurt, d s es ES: y,\n",
      "pitharapalloul INE: Wh fof mils sttar: blalackicher thivexpth s avan tr I o wen athare\n",
      "\n",
      "A:\n",
      "By sld he rn.\n",
      "GUCEOfut th n.\n",
      "Cos jurrme urd.\n",
      "HEToven,\n",
      "DUCHein t whastr o,\n",
      "GESHERENou he falos\n",
      "Whay he, Su fath! when PEd:\n",
      "I's out honfrot brif a whesstis hirteid s Tht s, Bes thamagorouthonorter cef, matsu,\n",
      "\n",
      "Me f h shastyof tot,\n",
      "IV:\n",
      "Ofond t rghalle? f t tive ste llu o aicr tt ly, d Ay, towakist toy hinghee mesothet h wnol s Heaclerimerethistle suny,\n",
      "IZAnd inovestre, aly. the.\n",
      "\n",
      "Coueimosem:\n",
      "To IURUThatimyour, he is issemato hthoith.\n",
      "Whone grube\n",
      "cond t y VONENoo:\n",
      "Ask,\n",
      "Nodns hir, othe te onu cos y wh KELUENUS IUCHonoryovillearoufat!'llinom,\n",
      "\n",
      "TUCAur.\n",
      "AR:\n",
      "YO: se t Ancks; by ayomanl faket he's yon mam sheais,-g; w, t! w-n, ishaye.\n",
      "AROMyokitors whind h cer n at gr h tl.\n",
      "\n",
      "TENVI quewighaveaca IG OFachilioodusp S:\n",
      "TUCOUELAlld nch wo be dan, trde. t ghererabur ttowhid?\n",
      "A:\n",
      "RY asell!\n",
      "T: thepr; ceers l oss gord igan ee an s t ard ts o te angr anesieshilesthate s thlllat omu! d\n"
     ]
    }
   ],
   "source": [
    "print(mytext.convert_integer2string(model.generate(1000, idx=torch.tensor([0]))))"
   ]
  },
  {
   "cell_type": "code",
   "execution_count": null,
   "id": "75ded1ea",
   "metadata": {},
   "outputs": [],
   "source": []
  }
 ],
 "metadata": {
  "kernelspec": {
   "display_name": "Python 3 (ipykernel)",
   "language": "python",
   "name": "python3"
  },
  "language_info": {
   "codemirror_mode": {
    "name": "ipython",
    "version": 3
   },
   "file_extension": ".py",
   "mimetype": "text/x-python",
   "name": "python",
   "nbconvert_exporter": "python",
   "pygments_lexer": "ipython3",
   "version": "3.10.8"
  },
  "vscode": {
   "interpreter": {
    "hash": "d4d1e4263499bec80672ea0156c357c1ee493ec2b1c70f0acce89fc37c4a6abe"
   }
  }
 },
 "nbformat": 4,
 "nbformat_minor": 5
}
