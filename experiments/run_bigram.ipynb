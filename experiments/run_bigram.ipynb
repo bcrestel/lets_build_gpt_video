{
 "cells": [
  {
   "cell_type": "code",
   "execution_count": 1,
   "id": "bf7ff2fa",
   "metadata": {
    "tags": []
   },
   "outputs": [
    {
     "data": {
      "text/plain": [
       "['../',\n",
       " '/home/experiments',\n",
       " '/opt/conda/lib/python310.zip',\n",
       " '/opt/conda/lib/python3.10',\n",
       " '/opt/conda/lib/python3.10/lib-dynload',\n",
       " '',\n",
       " '/opt/conda/lib/python3.10/site-packages',\n",
       " '/opt/conda/lib/python3.10/site-packages/PyYAML-6.0-py3.10-linux-x86_64.egg']"
      ]
     },
     "execution_count": 1,
     "metadata": {},
     "output_type": "execute_result"
    }
   ],
   "source": [
    "import sys\n",
    "sys.path.insert(0, \"../\")\n",
    "sys.path"
   ]
  },
  {
   "cell_type": "code",
   "execution_count": 2,
   "id": "42ec13cf",
   "metadata": {
    "tags": []
   },
   "outputs": [],
   "source": [
    "import torch\n",
    "from torch.nn import functional\n",
    "\n",
    "from src.text_processor import TextProcessor\n",
    "from src.bigram import BiGram\n",
    "from src.utils.get_device import get_device"
   ]
  },
  {
   "cell_type": "code",
   "execution_count": 3,
   "id": "818dca6f-71fd-4eda-b3c8-355aba997427",
   "metadata": {
    "tags": []
   },
   "outputs": [
    {
     "data": {
      "text/plain": [
       "'cpu'"
      ]
     },
     "execution_count": 3,
     "metadata": {},
     "output_type": "execute_result"
    }
   ],
   "source": [
    "mydevice = get_device()\n",
    "mydevice"
   ]
  },
  {
   "cell_type": "code",
   "execution_count": 4,
   "id": "8f4569d3",
   "metadata": {
    "tags": []
   },
   "outputs": [],
   "source": [
    "mytext = TextProcessor(\"shakespeare.txt\")"
   ]
  },
  {
   "cell_type": "code",
   "execution_count": 5,
   "id": "f0a955f6",
   "metadata": {
    "tags": []
   },
   "outputs": [],
   "source": [
    "model = BiGram(vocab_size=mytext.vocab_size)"
   ]
  },
  {
   "cell_type": "code",
   "execution_count": 6,
   "id": "8e8c5bdb-683e-454a-a328-db0352f092fb",
   "metadata": {
    "tags": []
   },
   "outputs": [
    {
     "data": {
      "text/plain": [
       "BiGram(\n",
       "  (embedding): Embedding(65, 65)\n",
       ")"
      ]
     },
     "execution_count": 6,
     "metadata": {},
     "output_type": "execute_result"
    }
   ],
   "source": [
    "model.to(mydevice)"
   ]
  },
  {
   "cell_type": "markdown",
   "id": "387c25b2",
   "metadata": {},
   "source": [
    "# Text"
   ]
  },
  {
   "cell_type": "code",
   "execution_count": 4,
   "id": "c9dc2db1",
   "metadata": {},
   "outputs": [
    {
     "data": {
      "text/plain": [
       "65"
      ]
     },
     "execution_count": 4,
     "metadata": {},
     "output_type": "execute_result"
    }
   ],
   "source": [
    "mytext.vocab_size"
   ]
  },
  {
   "cell_type": "code",
   "execution_count": 5,
   "id": "469c14fb",
   "metadata": {
    "scrolled": true
   },
   "outputs": [
    {
     "data": {
      "text/plain": [
       "['\\n',\n",
       " ' ',\n",
       " '!',\n",
       " '$',\n",
       " '&',\n",
       " \"'\",\n",
       " ',',\n",
       " '-',\n",
       " '.',\n",
       " '3',\n",
       " ':',\n",
       " ';',\n",
       " '?',\n",
       " 'A',\n",
       " 'B',\n",
       " 'C',\n",
       " 'D',\n",
       " 'E',\n",
       " 'F',\n",
       " 'G',\n",
       " 'H',\n",
       " 'I',\n",
       " 'J',\n",
       " 'K',\n",
       " 'L',\n",
       " 'M',\n",
       " 'N',\n",
       " 'O',\n",
       " 'P',\n",
       " 'Q',\n",
       " 'R',\n",
       " 'S',\n",
       " 'T',\n",
       " 'U',\n",
       " 'V',\n",
       " 'W',\n",
       " 'X',\n",
       " 'Y',\n",
       " 'Z',\n",
       " 'a',\n",
       " 'b',\n",
       " 'c',\n",
       " 'd',\n",
       " 'e',\n",
       " 'f',\n",
       " 'g',\n",
       " 'h',\n",
       " 'i',\n",
       " 'j',\n",
       " 'k',\n",
       " 'l',\n",
       " 'm',\n",
       " 'n',\n",
       " 'o',\n",
       " 'p',\n",
       " 'q',\n",
       " 'r',\n",
       " 's',\n",
       " 't',\n",
       " 'u',\n",
       " 'v',\n",
       " 'w',\n",
       " 'x',\n",
       " 'y',\n",
       " 'z']"
      ]
     },
     "execution_count": 5,
     "metadata": {},
     "output_type": "execute_result"
    }
   ],
   "source": [
    "mytext.all_chars"
   ]
  },
  {
   "cell_type": "code",
   "execution_count": 6,
   "id": "e272950b",
   "metadata": {},
   "outputs": [
    {
     "data": {
      "text/plain": [
       "[46, 43, 50, 50, 53, 3]"
      ]
     },
     "execution_count": 6,
     "metadata": {},
     "output_type": "execute_result"
    }
   ],
   "source": [
    "mytext.convert_string2integer(\"hello$\")"
   ]
  },
  {
   "cell_type": "code",
   "execution_count": 7,
   "id": "41628c78",
   "metadata": {},
   "outputs": [
    {
     "data": {
      "text/plain": [
       "'?eI\\np'"
      ]
     },
     "execution_count": 7,
     "metadata": {},
     "output_type": "execute_result"
    }
   ],
   "source": [
    "mytext.convert_integer2string([12,43,21,0,54])"
   ]
  },
  {
   "cell_type": "code",
   "execution_count": null,
   "id": "ac1bdbe4",
   "metadata": {},
   "outputs": [],
   "source": [
    "mytext.text"
   ]
  },
  {
   "cell_type": "code",
   "execution_count": 17,
   "id": "2c198456",
   "metadata": {},
   "outputs": [
    {
     "data": {
      "text/plain": [
       "tensor([18, 47, 56,  ..., 45,  8,  0])"
      ]
     },
     "execution_count": 17,
     "metadata": {},
     "output_type": "execute_result"
    }
   ],
   "source": [
    "mytext.data"
   ]
  },
  {
   "cell_type": "code",
   "execution_count": 18,
   "id": "99e805f1",
   "metadata": {},
   "outputs": [
    {
     "data": {
      "text/plain": [
       "1115394"
      ]
     },
     "execution_count": 18,
     "metadata": {},
     "output_type": "execute_result"
    }
   ],
   "source": [
    "len(mytext.data)"
   ]
  },
  {
   "cell_type": "code",
   "execution_count": 19,
   "id": "692a9bc4",
   "metadata": {},
   "outputs": [
    {
     "data": {
      "text/plain": [
       "tensor([12,  0,  0,  ..., 45,  8,  0])"
      ]
     },
     "execution_count": 19,
     "metadata": {},
     "output_type": "execute_result"
    }
   ],
   "source": [
    "mytext.data_val"
   ]
  },
  {
   "cell_type": "code",
   "execution_count": 11,
   "id": "b969f55e",
   "metadata": {
    "tags": []
   },
   "outputs": [
    {
     "name": "stdout",
     "output_type": "stream",
     "text": [
      "torch.Size([1, 1]) torch.Size([1, 1])\n"
     ]
    }
   ],
   "source": [
    "x, y = mytext.get_batch(batch_size=1, block_size=1)\n",
    "print(x.shape, y.shape)"
   ]
  },
  {
   "cell_type": "code",
   "execution_count": 21,
   "id": "beac8662",
   "metadata": {},
   "outputs": [
    {
     "name": "stdout",
     "output_type": "stream",
     "text": [
      "0\n",
      "2\n",
      "4\n",
      "6\n",
      "8\n"
     ]
    }
   ],
   "source": [
    "for ii in range(0, 10, 2):\n",
    "    print(ii)"
   ]
  },
  {
   "cell_type": "code",
   "execution_count": 22,
   "id": "a7507948",
   "metadata": {},
   "outputs": [
    {
     "data": {
      "text/plain": [
       "1003854"
      ]
     },
     "execution_count": 22,
     "metadata": {},
     "output_type": "execute_result"
    }
   ],
   "source": [
    "len(mytext.data_train)"
   ]
  },
  {
   "cell_type": "code",
   "execution_count": 23,
   "id": "c57f4617",
   "metadata": {},
   "outputs": [
    {
     "data": {
      "text/plain": [
       "tensor([64, 43, 52, 10,  0])"
      ]
     },
     "execution_count": 23,
     "metadata": {},
     "output_type": "execute_result"
    }
   ],
   "source": [
    "mytext.data_train[10:15]"
   ]
  },
  {
   "cell_type": "markdown",
   "id": "33abb487",
   "metadata": {},
   "source": [
    "# Bigram model"
   ]
  },
  {
   "cell_type": "markdown",
   "id": "934bdbd9-4b95-43ca-90aa-049bdc89d9f2",
   "metadata": {},
   "source": [
    "## Verify loss in the case batch_size=1, block_size=1"
   ]
  },
  {
   "cell_type": "code",
   "execution_count": 8,
   "id": "a0ab8e28-b0e5-4389-b7b2-d8b3be2d284d",
   "metadata": {
    "tags": []
   },
   "outputs": [
    {
     "name": "stdout",
     "output_type": "stream",
     "text": [
      "torch.Size([1, 1]) torch.Size([1, 1])\n"
     ]
    }
   ],
   "source": [
    "x, y = mytext.get_batch(batch_size=1, block_size=1)\n",
    "print(x.shape, y.shape)"
   ]
  },
  {
   "cell_type": "code",
   "execution_count": 9,
   "id": "c9e4fbe6",
   "metadata": {
    "tags": []
   },
   "outputs": [
    {
     "data": {
      "text/plain": [
       "tensor(4.8305, grad_fn=<NllLossBackward0>)"
      ]
     },
     "execution_count": 9,
     "metadata": {},
     "output_type": "execute_result"
    }
   ],
   "source": [
    "model.loss(model(x), y)"
   ]
  },
  {
   "cell_type": "code",
   "execution_count": 10,
   "id": "f96d5656",
   "metadata": {
    "tags": []
   },
   "outputs": [
    {
     "data": {
      "text/plain": [
       "tensor([[4.8305]], grad_fn=<NegBackward0>)"
      ]
     },
     "execution_count": 10,
     "metadata": {},
     "output_type": "execute_result"
    }
   ],
   "source": [
    "-(model(x).exp()/model(x).exp().sum())[0, 0, y].log()"
   ]
  },
  {
   "cell_type": "markdown",
   "id": "fa0f273a-008c-4d5e-bd17-44fc10dd1edb",
   "metadata": {},
   "source": [
    "## Train model"
   ]
  },
  {
   "cell_type": "code",
   "execution_count": 11,
   "id": "120e0a6b",
   "metadata": {
    "tags": []
   },
   "outputs": [
    {
     "name": "stdout",
     "output_type": "stream",
     "text": [
      "Epoch 0: train_loss = 143636.93052005768, eval_loss = 15974.912975788116\n",
      "Epoch 100: train_loss = 113880.17996120453, eval_loss = 12689.927784204483\n",
      "Epoch 200: train_loss = 96472.9219174385, eval_loss = 10764.42335319519\n",
      "Epoch 300: train_loss = 87357.67544484138, eval_loss = 9757.632342100143\n",
      "Epoch 400: train_loss = 82986.90327000618, eval_loss = 9278.699217319489\n"
     ]
    },
    {
     "ename": "KeyboardInterrupt",
     "evalue": "",
     "output_type": "error",
     "traceback": [
      "\u001b[0;31m---------------------------------------------------------------------------\u001b[0m",
      "\u001b[0;31mKeyboardInterrupt\u001b[0m                         Traceback (most recent call last)",
      "Cell \u001b[0;32mIn[11], line 1\u001b[0m\n\u001b[0;32m----> 1\u001b[0m \u001b[43mmodel\u001b[49m\u001b[38;5;241;43m.\u001b[39;49m\u001b[43mtrain\u001b[49m\u001b[43m(\u001b[49m\n\u001b[1;32m      2\u001b[0m \u001b[43m    \u001b[49m\u001b[43mtext\u001b[49m\u001b[38;5;241;43m=\u001b[39;49m\u001b[43mmytext\u001b[49m\u001b[43m,\u001b[49m\n\u001b[1;32m      3\u001b[0m \u001b[43m    \u001b[49m\u001b[43mnb_epochs\u001b[49m\u001b[38;5;241;43m=\u001b[39;49m\u001b[38;5;241;43m10000\u001b[39;49m\u001b[43m,\u001b[49m\n\u001b[1;32m      4\u001b[0m \u001b[43m    \u001b[49m\u001b[43mbatch_size\u001b[49m\u001b[38;5;241;43m=\u001b[39;49m\u001b[38;5;241;43m32\u001b[39;49m\u001b[43m,\u001b[49m\n\u001b[1;32m      5\u001b[0m \u001b[43m    \u001b[49m\u001b[43mblock_size\u001b[49m\u001b[38;5;241;43m=\u001b[39;49m\u001b[38;5;241;43m8\u001b[39;49m\u001b[43m,\u001b[49m\n\u001b[1;32m      6\u001b[0m \u001b[43m    \u001b[49m\u001b[43mlearning_rate\u001b[49m\u001b[38;5;241;43m=\u001b[39;49m\u001b[38;5;241;43m1e-2\u001b[39;49m\u001b[43m,\u001b[49m\n\u001b[1;32m      7\u001b[0m \u001b[43m    \u001b[49m\u001b[43meval_interval\u001b[49m\u001b[43m \u001b[49m\u001b[38;5;241;43m=\u001b[39;49m\u001b[43m \u001b[49m\u001b[38;5;241;43m100\u001b[39;49m\u001b[43m,\u001b[49m\n\u001b[1;32m      8\u001b[0m \u001b[43m)\u001b[49m\n",
      "File \u001b[0;32m/home/experiments/../src/bigram.py:68\u001b[0m, in \u001b[0;36mBiGram.train\u001b[0;34m(self, nb_epochs, text, batch_size, block_size, learning_rate, eval_interval)\u001b[0m\n\u001b[1;32m     63\u001b[0m \u001b[38;5;28;01mfor\u001b[39;00m split \u001b[38;5;129;01min\u001b[39;00m [\u001b[38;5;124m\"\u001b[39m\u001b[38;5;124mtrain\u001b[39m\u001b[38;5;124m\"\u001b[39m, \u001b[38;5;124m\"\u001b[39m\u001b[38;5;124mval\u001b[39m\u001b[38;5;124m\"\u001b[39m]:\n\u001b[1;32m     64\u001b[0m     text_iterator \u001b[38;5;241m=\u001b[39m text\u001b[38;5;241m.\u001b[39miterator_all(\n\u001b[1;32m     65\u001b[0m         batch_size\u001b[38;5;241m=\u001b[39mbatch_size,\n\u001b[1;32m     66\u001b[0m         split\u001b[38;5;241m=\u001b[39msplit,\n\u001b[1;32m     67\u001b[0m     )\n\u001b[0;32m---> 68\u001b[0m     _all_losses \u001b[38;5;241m=\u001b[39m [\n\u001b[1;32m     69\u001b[0m         \u001b[38;5;28mself\u001b[39m\u001b[38;5;241m.\u001b[39mloss(\u001b[38;5;28mself\u001b[39m\u001b[38;5;241m.\u001b[39mforward(bb[\u001b[38;5;241m0\u001b[39m]), bb[\u001b[38;5;241m1\u001b[39m])\u001b[38;5;241m.\u001b[39mitem()\n\u001b[1;32m     70\u001b[0m         \u001b[38;5;28;01mfor\u001b[39;00m bb \u001b[38;5;129;01min\u001b[39;00m text_iterator\n\u001b[1;32m     71\u001b[0m     ]\n\u001b[1;32m     72\u001b[0m     loss_split[split] \u001b[38;5;241m=\u001b[39m \u001b[38;5;28msum\u001b[39m(_all_losses)\n\u001b[1;32m     73\u001b[0m \u001b[38;5;28mprint\u001b[39m(\n\u001b[1;32m     74\u001b[0m     \u001b[38;5;124mf\u001b[39m\u001b[38;5;124m\"\u001b[39m\u001b[38;5;124mEpoch \u001b[39m\u001b[38;5;132;01m{\u001b[39;00mep\u001b[38;5;132;01m}\u001b[39;00m\u001b[38;5;124m: train_loss = \u001b[39m\u001b[38;5;132;01m{\u001b[39;00mloss_split[\u001b[38;5;124m'\u001b[39m\u001b[38;5;124mtrain\u001b[39m\u001b[38;5;124m'\u001b[39m]\u001b[38;5;132;01m}\u001b[39;00m\u001b[38;5;124m, eval_loss = \u001b[39m\u001b[38;5;132;01m{\u001b[39;00mloss_split[\u001b[38;5;124m'\u001b[39m\u001b[38;5;124mval\u001b[39m\u001b[38;5;124m'\u001b[39m]\u001b[38;5;132;01m}\u001b[39;00m\u001b[38;5;124m\"\u001b[39m\n\u001b[1;32m     75\u001b[0m )\n",
      "File \u001b[0;32m/home/experiments/../src/bigram.py:69\u001b[0m, in \u001b[0;36m<listcomp>\u001b[0;34m(.0)\u001b[0m\n\u001b[1;32m     63\u001b[0m \u001b[38;5;28;01mfor\u001b[39;00m split \u001b[38;5;129;01min\u001b[39;00m [\u001b[38;5;124m\"\u001b[39m\u001b[38;5;124mtrain\u001b[39m\u001b[38;5;124m\"\u001b[39m, \u001b[38;5;124m\"\u001b[39m\u001b[38;5;124mval\u001b[39m\u001b[38;5;124m\"\u001b[39m]:\n\u001b[1;32m     64\u001b[0m     text_iterator \u001b[38;5;241m=\u001b[39m text\u001b[38;5;241m.\u001b[39miterator_all(\n\u001b[1;32m     65\u001b[0m         batch_size\u001b[38;5;241m=\u001b[39mbatch_size,\n\u001b[1;32m     66\u001b[0m         split\u001b[38;5;241m=\u001b[39msplit,\n\u001b[1;32m     67\u001b[0m     )\n\u001b[1;32m     68\u001b[0m     _all_losses \u001b[38;5;241m=\u001b[39m [\n\u001b[0;32m---> 69\u001b[0m         \u001b[38;5;28mself\u001b[39m\u001b[38;5;241m.\u001b[39mloss(\u001b[38;5;28;43mself\u001b[39;49m\u001b[38;5;241;43m.\u001b[39;49m\u001b[43mforward\u001b[49m\u001b[43m(\u001b[49m\u001b[43mbb\u001b[49m\u001b[43m[\u001b[49m\u001b[38;5;241;43m0\u001b[39;49m\u001b[43m]\u001b[49m\u001b[43m)\u001b[49m, bb[\u001b[38;5;241m1\u001b[39m])\u001b[38;5;241m.\u001b[39mitem()\n\u001b[1;32m     70\u001b[0m         \u001b[38;5;28;01mfor\u001b[39;00m bb \u001b[38;5;129;01min\u001b[39;00m text_iterator\n\u001b[1;32m     71\u001b[0m     ]\n\u001b[1;32m     72\u001b[0m     loss_split[split] \u001b[38;5;241m=\u001b[39m \u001b[38;5;28msum\u001b[39m(_all_losses)\n\u001b[1;32m     73\u001b[0m \u001b[38;5;28mprint\u001b[39m(\n\u001b[1;32m     74\u001b[0m     \u001b[38;5;124mf\u001b[39m\u001b[38;5;124m\"\u001b[39m\u001b[38;5;124mEpoch \u001b[39m\u001b[38;5;132;01m{\u001b[39;00mep\u001b[38;5;132;01m}\u001b[39;00m\u001b[38;5;124m: train_loss = \u001b[39m\u001b[38;5;132;01m{\u001b[39;00mloss_split[\u001b[38;5;124m'\u001b[39m\u001b[38;5;124mtrain\u001b[39m\u001b[38;5;124m'\u001b[39m]\u001b[38;5;132;01m}\u001b[39;00m\u001b[38;5;124m, eval_loss = \u001b[39m\u001b[38;5;132;01m{\u001b[39;00mloss_split[\u001b[38;5;124m'\u001b[39m\u001b[38;5;124mval\u001b[39m\u001b[38;5;124m'\u001b[39m]\u001b[38;5;132;01m}\u001b[39;00m\u001b[38;5;124m\"\u001b[39m\n\u001b[1;32m     75\u001b[0m )\n",
      "File \u001b[0;32m/home/experiments/../src/bigram.py:18\u001b[0m, in \u001b[0;36mBiGram.forward\u001b[0;34m(self, x)\u001b[0m\n\u001b[1;32m     15\u001b[0m     \u001b[38;5;28mself\u001b[39m\u001b[38;5;241m.\u001b[39mvocab_size \u001b[38;5;241m=\u001b[39m vocab_size\n\u001b[1;32m     16\u001b[0m     \u001b[38;5;28mself\u001b[39m\u001b[38;5;241m.\u001b[39membedding \u001b[38;5;241m=\u001b[39m nn\u001b[38;5;241m.\u001b[39mEmbedding(\u001b[38;5;28mself\u001b[39m\u001b[38;5;241m.\u001b[39mvocab_size, \u001b[38;5;28mself\u001b[39m\u001b[38;5;241m.\u001b[39mvocab_size)\n\u001b[0;32m---> 18\u001b[0m \u001b[38;5;28;01mdef\u001b[39;00m \u001b[38;5;21mforward\u001b[39m(\u001b[38;5;28mself\u001b[39m, x: torch\u001b[38;5;241m.\u001b[39mTensor):\n\u001b[1;32m     19\u001b[0m \u001b[38;5;250m    \u001b[39m\u001b[38;5;124;03m\"\"\"x.shape = (B, T)\"\"\"\u001b[39;00m\n\u001b[1;32m     20\u001b[0m     logits \u001b[38;5;241m=\u001b[39m \u001b[38;5;28mself\u001b[39m\u001b[38;5;241m.\u001b[39membedding(x)  \u001b[38;5;66;03m# shape (B, T, self.vocab_size)\u001b[39;00m\n",
      "\u001b[0;31mKeyboardInterrupt\u001b[0m: "
     ]
    }
   ],
   "source": [
    "model.train(\n",
    "    text=mytext,\n",
    "    nb_epochs=10000,\n",
    "    batch_size=32,\n",
    "    block_size=8,\n",
    "    learning_rate=1e-2,\n",
    "    eval_interval = 100,\n",
    ")"
   ]
  },
  {
   "cell_type": "code",
   "execution_count": 6,
   "id": "e3af88d0",
   "metadata": {},
   "outputs": [
    {
     "name": "stderr",
     "output_type": "stream",
     "text": [
      "/workspaces/lets_build_gpt_video/experiments/../src/bigram.py:27: UserWarning: Implicit dimension choice for softmax has been deprecated. Change the call to include dim=X as an argument.\n",
      "  probs = functional.softmax(logits)\n"
     ]
    },
    {
     "data": {
      "text/plain": [
       "tensor([18])"
      ]
     },
     "execution_count": 6,
     "metadata": {},
     "output_type": "execute_result"
    }
   ],
   "source": [
    "model.inference(torch.tensor([0]))"
   ]
  },
  {
   "cell_type": "code",
   "execution_count": 10,
   "id": "32f4bd45",
   "metadata": {},
   "outputs": [
    {
     "name": "stdout",
     "output_type": "stream",
     "text": [
      "\n",
      "ARDWh y an: ir aurt, d s es ES: y,\n",
      "pitharapalloul INE: Wh fof mils sttar: blalackicher thivexpth s avan tr I o wen athare\n",
      "\n",
      "A:\n",
      "By sld he rn.\n",
      "GUCEOfut th n.\n",
      "Cos jurrme urd.\n",
      "HEToven,\n",
      "DUCHein t whastr o,\n",
      "GESHERENou he falos\n",
      "Whay he, Su fath! when PEd:\n",
      "I's out honfrot brif a whesstis hirteid s Tht s, Bes thamagorouthonorter cef, matsu,\n",
      "\n",
      "Me f h shastyof tot,\n",
      "IV:\n",
      "Ofond t rghalle? f t tive ste llu o aicr tt ly, d Ay, towakist toy hinghee mesothet h wnol s Heaclerimerethistle suny,\n",
      "IZAnd inovestre, aly. the.\n",
      "\n",
      "Coueimosem:\n",
      "To IURUThatimyour, he is issemato hthoith.\n",
      "Whone grube\n",
      "cond t y VONENoo:\n",
      "Ask,\n",
      "Nodns hir, othe te onu cos y wh KELUENUS IUCHonoryovillearoufat!'llinom,\n",
      "\n",
      "TUCAur.\n",
      "AR:\n",
      "YO: se t Ancks; by ayomanl faket he's yon mam sheais,-g; w, t! w-n, ishaye.\n",
      "AROMyokitors whind h cer n at gr h tl.\n",
      "\n",
      "TENVI quewighaveaca IG OFachilioodusp S:\n",
      "TUCOUELAlld nch wo be dan, trde. t ghererabur ttowhid?\n",
      "A:\n",
      "RY asell!\n",
      "T: thepr; ceers l oss gord igan ee an s t ard ts o te angr anesieshilesthate s thlllat omu! d\n"
     ]
    }
   ],
   "source": [
    "print(mytext.convert_integer2string(model.generate(1000, idx=torch.tensor([0]))))"
   ]
  },
  {
   "cell_type": "code",
   "execution_count": null,
   "id": "75ded1ea",
   "metadata": {},
   "outputs": [],
   "source": []
  }
 ],
 "metadata": {
  "kernelspec": {
   "display_name": "Python 3 (ipykernel)",
   "language": "python",
   "name": "python3"
  },
  "language_info": {
   "codemirror_mode": {
    "name": "ipython",
    "version": 3
   },
   "file_extension": ".py",
   "mimetype": "text/x-python",
   "name": "python",
   "nbconvert_exporter": "python",
   "pygments_lexer": "ipython3",
   "version": "3.10.8"
  },
  "vscode": {
   "interpreter": {
    "hash": "d4d1e4263499bec80672ea0156c357c1ee493ec2b1c70f0acce89fc37c4a6abe"
   }
  }
 },
 "nbformat": 4,
 "nbformat_minor": 5
}
